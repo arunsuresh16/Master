{
 "cells": [
  {
   "cell_type": "markdown",
   "metadata": {},
   "source": [
    "# CarND Object Detection Lab\n",
    "\n",
    "Let's get started!"
   ]
  },
  {
   "cell_type": "code",
   "execution_count": 1,
   "metadata": {},
   "outputs": [],
   "source": [
    "import tensorflow as tf\n",
    "import numpy as np\n",
    "import matplotlib.pyplot as plt\n",
    "from PIL import Image\n",
    "from PIL import ImageDraw\n",
    "from PIL import ImageColor\n",
    "import time\n",
    "from scipy.stats import norm\n",
    "import cv2\n",
    "\n",
    "%matplotlib inline\n",
    "plt.style.use('ggplot')"
   ]
  },
  {
   "cell_type": "markdown",
   "metadata": {},
   "source": [
    "## MobileNets\n",
    "\n",
    "[*MobileNets*](https://arxiv.org/abs/1704.04861), as the name suggests, are neural networks constructed for the purpose of running very efficiently (high FPS, low memory footprint) on mobile and embedded devices. *MobileNets* achieve this with 3 techniques:\n",
    "\n",
    "1. Perform a depthwise convolution followed by a 1x1 convolution rather than a standard convolution. The 1x1 convolution is called a pointwise convolution if it's following a depthwise convolution. The combination of a depthwise convolution followed by a pointwise convolution is sometimes called a separable depthwise convolution.\n",
    "2. Use a \"width multiplier\" - reduces the size of the input/output channels, set to a value between 0 and 1.\n",
    "3. Use a \"resolution multiplier\" - reduces the size of the original input, set to a value between 0 and 1.\n",
    "\n",
    "These 3 techniques reduce the size of cummulative parameters and therefore the computation required. Of course, generally models with more paramters achieve a higher accuracy. *MobileNets* are no silver bullet, while they perform very well larger models will outperform them. ** *MobileNets* are designed for mobile devices, NOT cloud GPUs**. The reason we're using them in this lab is automotive hardware is closer to mobile or embedded devices than beefy cloud GPUs."
   ]
  },
  {
   "cell_type": "markdown",
   "metadata": {},
   "source": [
    "### Convolutions\n",
    "\n",
    "#### Vanilla Convolution\n",
    "\n",
    "Before we get into the *MobileNet* convolution block let's take a step back and recall the computational cost of a vanilla convolution. There are $N$ kernels of size $D_k * D_k$. Each of these kernels goes over the entire input which is a $D_f * D_f * M$ sized feature map or tensor (if that makes more sense). The computational cost is:\n",
    "\n",
    "$$\n",
    "D_g * D_g * M * N * D_k * D_k\n",
    "$$\n",
    "\n",
    "Let $D_g * D_g$ be the size of the output feature map. Then a standard convolution takes in a $D_f * D_f * M$ input feature map and returns a $D_g * D_g * N$ feature map as output.\n",
    "\n",
    "(*Note*: In the MobileNets paper, you may notice the above equation for computational cost uses $D_f$ instead of $D_g$. In the paper, they assume the output and input are the same spatial dimensions due to stride of 1 and padding, so doing so does not make a difference, but this would want $D_g$ for different dimensions of input and output.)\n",
    "\n",
    "![Standard Convolution](assets/standard_conv.png)\n",
    "\n",
    "\n",
    "\n",
    "#### Depthwise Convolution\n",
    "\n",
    "A depthwise convolution acts on each input channel separately with a different kernel. $M$ input channels implies there are $M$ $D_k * D_k$ kernels. Also notice this results in $N$ being set to 1. If this doesn't make sense, think about the shape a kernel would have to be to act upon an individual channel.\n",
    "\n",
    "Computation cost:\n",
    "\n",
    "$$\n",
    "D_g * D_g * M * D_k * D_k\n",
    "$$\n",
    "\n",
    "\n",
    "![Depthwise Convolution](assets/depthwise_conv.png)\n",
    "\n",
    "\n",
    "#### Pointwise Convolution\n",
    "\n",
    "A pointwise convolution performs a 1x1 convolution, it's the same as a vanilla convolution except the kernel size is $1 * 1$.\n",
    "\n",
    "Computation cost:\n",
    "\n",
    "$$\n",
    "D_k * D_k * D_g * D_g * M * N =\n",
    "1 * 1 * D_g * D_g * M * N =\n",
    "D_g * D_g * M * N\n",
    "$$\n",
    "\n",
    "![Pointwise Convolution](assets/pointwise_conv.png)\n",
    "\n",
    "\n",
    "\n",
    "Thus the total computation cost is for separable depthwise convolution:\n",
    "\n",
    "$$\n",
    "D_g * D_g * M * D_k * D_k + D_g * D_g * M * N\n",
    "$$\n",
    "\n",
    "which results in $\\frac{1}{N} + \\frac{1}{D_k^2}$ reduction in computation:\n",
    "\n",
    "$$\n",
    "\\frac {D_g * D_g * M * D_k * D_k + D_g * D_g * M * N} {D_g * D_g * M * N * D_k * D_k} = \n",
    "\\frac {D_k^2 + N} {D_k^2*N} = \n",
    "\\frac {1}{N} + \\frac{1}{D_k^2}\n",
    "$$\n",
    "\n",
    "*MobileNets* use a 3x3 kernel, so assuming a large enough $N$, separable depthwise convnets are ~9x more computationally efficient than vanilla convolutions!"
   ]
  },
  {
   "cell_type": "markdown",
   "metadata": {},
   "source": [
    "### Width Multiplier\n",
    "\n",
    "The 2nd technique for reducing the computational cost is the \"width multiplier\" which is a hyperparameter inhabiting the range [0, 1] denoted here as $\\alpha$. $\\alpha$ reduces the number of input and output channels proportionally:\n",
    "\n",
    "$$\n",
    "D_f * D_f * \\alpha M * D_k * D_k + D_f * D_f * \\alpha M * \\alpha N\n",
    "$$"
   ]
  },
  {
   "cell_type": "markdown",
   "metadata": {},
   "source": [
    "### Resolution Multiplier\n",
    "\n",
    "The 3rd technique for reducing the computational cost is the \"resolution multiplier\" which is a hyperparameter inhabiting the range [0, 1] denoted here as $\\rho$. $\\rho$ reduces the size of the input feature map:\n",
    "\n",
    "$$\n",
    "\\rho D_f * \\rho D_f * M * D_k * D_k + \\rho D_f * \\rho D_f * M * N\n",
    "$$"
   ]
  },
  {
   "cell_type": "markdown",
   "metadata": {},
   "source": [
    "Combining the width and resolution multipliers results in a computational cost of:\n",
    "\n",
    "$$\n",
    "\\rho D_f * \\rho D_f * a M * D_k * D_k + \\rho D_f * \\rho D_f * a M * a N\n",
    "$$\n",
    "\n",
    "Training *MobileNets* with different values of $\\alpha$ and $\\rho$ will result in different speed vs. accuracy tradeoffs. The folks at Google have run these experiments, the result are shown in the graphic below:\n",
    "\n",
    "![MobileNets Graphic](https://github.com/tensorflow/models/raw/master/research/slim/nets/mobilenet_v1.png)"
   ]
  },
  {
   "cell_type": "markdown",
   "metadata": {},
   "source": [
    "MACs (M) represents the number of multiplication-add operations in the millions."
   ]
  },
  {
   "cell_type": "markdown",
   "metadata": {},
   "source": [
    "### Exercise 1 - Implement Separable Depthwise Convolution\n",
    "\n",
    "In this exercise you'll implement a separable depthwise convolution block and compare the number of parameters to a standard convolution block. For this exercise we'll assume the width and resolution multipliers are set to 1.\n",
    "\n",
    "Docs:\n",
    "\n",
    "* [depthwise convolution](https://www.tensorflow.org/api_docs/python/tf/nn/depthwise_conv2d)"
   ]
  },
  {
   "cell_type": "code",
   "execution_count": 2,
   "metadata": {},
   "outputs": [],
   "source": [
    "def vanilla_conv_block(x, kernel_size, output_channels):\n",
    "    \"\"\"\n",
    "    Vanilla Conv -> Batch Norm -> ReLU\n",
    "    \"\"\"\n",
    "    x = tf.layers.conv2d(\n",
    "        x, output_channels, kernel_size, (2, 2), padding='SAME')\n",
    "    x = tf.layers.batch_normalization(x)\n",
    "    return tf.nn.relu(x)\n",
    "\n",
    "# TODO: implement MobileNet conv block\n",
    "def mobilenet_conv_block(x, kernel_size, output_channels):\n",
    "    \"\"\"\n",
    "    Depthwise Conv -> Batch Norm -> ReLU -> Pointwise Conv -> Batch Norm -> ReLU\n",
    "    \"\"\"\n",
    "    pass"
   ]
  },
  {
   "cell_type": "markdown",
   "metadata": {},
   "source": [
    "**[Sample solution](./exercise-solutions/e1.py)**\n",
    "\n",
    "Let's compare the number of parameters in each block."
   ]
  },
  {
   "cell_type": "code",
   "execution_count": 3,
   "metadata": {},
   "outputs": [
    {
     "name": "stdout",
     "output_type": "stream",
     "text": [
      "VANILLA CONV BLOCK\n",
      "Variable vanilla/conv2d/kernel:0: number of params = 147456\n",
      "Variable vanilla/conv2d/bias:0: number of params = 512\n",
      "Variable vanilla/batch_normalization/beta:0: number of params = 512\n",
      "Variable vanilla/batch_normalization/gamma:0: number of params = 512\n",
      "Total number of params = 148992\n",
      "\n",
      "MOBILENET CONV BLOCK\n",
      "Total number of params = 0\n",
      "\n",
      "infx parameter reduction\n"
     ]
    },
    {
     "name": "stderr",
     "output_type": "stream",
     "text": [
      "/opt/conda/lib/python3.6/site-packages/ipykernel_launcher.py:41: RuntimeWarning: divide by zero encountered in long_scalars\n"
     ]
    }
   ],
   "source": [
    "# constants but you can change them so I guess they're not so constant :)\n",
    "INPUT_CHANNELS = 32\n",
    "OUTPUT_CHANNELS = 512\n",
    "KERNEL_SIZE = 3\n",
    "IMG_HEIGHT = 256\n",
    "IMG_WIDTH = 256\n",
    "\n",
    "with tf.Session(graph=tf.Graph()) as sess:\n",
    "    # input\n",
    "    x = tf.constant(np.random.randn(1, IMG_HEIGHT, IMG_WIDTH, INPUT_CHANNELS), dtype=tf.float32)\n",
    "\n",
    "    with tf.variable_scope('vanilla'):\n",
    "        vanilla_conv = vanilla_conv_block(x, KERNEL_SIZE, OUTPUT_CHANNELS)\n",
    "    with tf.variable_scope('mobile'):\n",
    "        mobilenet_conv = mobilenet_conv_block(x, KERNEL_SIZE, OUTPUT_CHANNELS)\n",
    "\n",
    "    vanilla_params = [\n",
    "        (v.name, np.prod(v.get_shape().as_list()))\n",
    "        for v in tf.get_collection(tf.GraphKeys.TRAINABLE_VARIABLES, 'vanilla')\n",
    "    ]\n",
    "    mobile_params = [\n",
    "        (v.name, np.prod(v.get_shape().as_list()))\n",
    "        for v in tf.get_collection(tf.GraphKeys.TRAINABLE_VARIABLES, 'mobile')\n",
    "    ]\n",
    "\n",
    "    print(\"VANILLA CONV BLOCK\")\n",
    "    total_vanilla_params = sum([p[1] for p in vanilla_params])\n",
    "    for p in vanilla_params:\n",
    "        print(\"Variable {0}: number of params = {1}\".format(p[0], p[1]))\n",
    "    print(\"Total number of params =\", total_vanilla_params)\n",
    "    print()\n",
    "\n",
    "    print(\"MOBILENET CONV BLOCK\")\n",
    "    total_mobile_params = sum([p[1] for p in mobile_params])\n",
    "    for p in mobile_params:\n",
    "        print(\"Variable {0}: number of params = {1}\".format(p[0], p[1]))\n",
    "    print(\"Total number of params =\", total_mobile_params)\n",
    "    print()\n",
    "\n",
    "    print(\"{0:.3f}x parameter reduction\".format(total_vanilla_params /\n",
    "                                             total_mobile_params))"
   ]
  },
  {
   "cell_type": "markdown",
   "metadata": {},
   "source": [
    "Your solution should show the majority of the parameters in *MobileNet* block stem from the pointwise convolution."
   ]
  },
  {
   "cell_type": "markdown",
   "metadata": {},
   "source": [
    "## *MobileNet* SSD\n",
    "\n",
    "In this section you'll use a pretrained *MobileNet* [SSD](https://arxiv.org/abs/1512.02325) model to perform object detection. You can download the *MobileNet* SSD and other models from the [TensorFlow detection model zoo](https://github.com/tensorflow/models/blob/master/research/object_detection/g3doc/detection_model_zoo.md) (*note*: we'll provide links to specific models further below). [Paper](https://arxiv.org/abs/1611.10012) describing comparing several object detection models.\n",
    "\n",
    "Alright, let's get into SSD!"
   ]
  },
  {
   "cell_type": "markdown",
   "metadata": {},
   "source": [
    "### Single Shot Detection (SSD)\n",
    "\n",
    "Many previous works in object detection involve more than one training phase. For example, the [Faster-RCNN](https://arxiv.org/abs/1506.01497) architecture first trains a Region Proposal Network (RPN) which decides which regions of the image are worth drawing a box around. RPN is then merged with a pretrained model for classification (classifies the regions). The image below is an RPN:\n",
    "\n",
    "![Faster-RCNN Visual](./assets/faster-rcnn.png)"
   ]
  },
  {
   "cell_type": "markdown",
   "metadata": {},
   "source": [
    "The SSD architecture is a single convolutional network which learns to predict bounding box locations and classify the locations in one pass. Put differently, SSD can be trained end to end while Faster-RCNN cannot. The SSD architecture consists of a base network followed by several convolutional layers: \n",
    "\n",
    "![SSD Visual](./assets/ssd_architecture.png)\n",
    "\n",
    "**NOTE:** In this lab the base network is a MobileNet (instead of VGG16.)\n",
    "\n",
    "#### Detecting Boxes\n",
    "\n",
    "SSD operates on feature maps to predict bounding box locations. Recall a feature map is of size $D_f * D_f * M$. For each feature map location $k$ bounding boxes are predicted. Each bounding box carries with it the following information:\n",
    "\n",
    "* 4 corner bounding box **offset** locations $(cx, cy, w, h)$\n",
    "* $C$ class probabilities $(c_1, c_2, ..., c_p)$\n",
    "\n",
    "SSD **does not** predict the shape of the box, rather just where the box is. The $k$ bounding boxes each have a predetermined shape. This is illustrated in the figure below:\n",
    "\n",
    "![](./assets/ssd_feature_maps.png)\n",
    "\n",
    "The shapes are set prior to actual training. For example, In figure (c) in the above picture there are 4 boxes, meaning $k$ = 4."
   ]
  },
  {
   "cell_type": "markdown",
   "metadata": {},
   "source": [
    "### Exercise 2 - SSD Feature Maps\n",
    "\n",
    "It would be a good exercise to read the SSD paper prior to a answering the following questions.\n",
    "\n",
    "***Q: Why does SSD use several differently sized feature maps to predict detections?***"
   ]
  },
  {
   "cell_type": "markdown",
   "metadata": {},
   "source": [
    "A: Your answer here\n",
    "\n",
    "**[Sample answer](./exercise-solutions/e2.md)**"
   ]
  },
  {
   "cell_type": "markdown",
   "metadata": {},
   "source": [
    "The current approach leaves us with thousands of bounding box candidates, clearly the vast majority of them are nonsensical.\n",
    "\n",
    "### Exercise 3 - Filtering Bounding Boxes\n",
    "\n",
    "***Q: What are some ways which we can filter nonsensical bounding boxes?***"
   ]
  },
  {
   "cell_type": "markdown",
   "metadata": {},
   "source": [
    "A: Your answer here\n",
    "\n",
    "**[Sample answer](./exercise-solutions/e3.md)**"
   ]
  },
  {
   "cell_type": "markdown",
   "metadata": {},
   "source": [
    "#### Loss\n",
    "\n",
    "With the final set of matched boxes we can compute the loss:\n",
    "\n",
    "$$\n",
    "L = \\frac {1} {N} * ( L_{class} + L_{box})\n",
    "$$\n",
    "\n",
    "where $N$ is the total number of matched boxes, $L_{class}$ is a softmax loss for classification, and $L_{box}$ is a L1 smooth loss representing the error of the matched boxes with the ground truth boxes. L1 smooth loss is a modification of L1 loss which is more robust to outliers. In the event $N$ is 0 the loss is set 0.\n",
    "\n"
   ]
  },
  {
   "cell_type": "markdown",
   "metadata": {},
   "source": [
    "###  SSD Summary\n",
    "\n",
    "* Starts from a base model pretrained on ImageNet. \n",
    "* The base model is extended by several convolutional layers.\n",
    "* Each feature map is used to predict bounding boxes. Diversity in feature map size allows object detection at different resolutions.\n",
    "* Boxes are filtered by IoU metrics and hard negative mining.\n",
    "* Loss is a combination of classification (softmax) and dectection (smooth L1)\n",
    "* Model can be trained end to end."
   ]
  },
  {
   "cell_type": "markdown",
   "metadata": {},
   "source": [
    "## Object Detection Inference\n",
    "\n",
    "In this part of the lab you'll detect objects using pretrained object detection models. You can download the latest pretrained models from the [model zoo](https://github.com/tensorflow/models/blob/master/research/object_detection/g3doc/detection_model_zoo.md), although do note that you may need a newer version of TensorFlow (such as v1.8) in order to use the newest models.\n",
    "\n",
    "We are providing the download links for the below noted files to ensure compatibility between the included environment file and the models.\n",
    "\n",
    "[SSD_Mobilenet 11.6.17 version](http://download.tensorflow.org/models/object_detection/ssd_mobilenet_v1_coco_11_06_2017.tar.gz)\n",
    "\n",
    "[RFCN_ResNet101 11.6.17 version](http://download.tensorflow.org/models/object_detection/rfcn_resnet101_coco_11_06_2017.tar.gz)\n",
    "\n",
    "[Faster_RCNN_Inception_ResNet 11.6.17 version](http://download.tensorflow.org/models/object_detection/faster_rcnn_inception_resnet_v2_atrous_coco_11_06_2017.tar.gz)\n",
    "\n",
    "Make sure to extract these files prior to continuing!"
   ]
  },
  {
   "cell_type": "code",
   "execution_count": 4,
   "metadata": {},
   "outputs": [],
   "source": [
    "# Frozen inference graph files. NOTE: change the path to where you saved the models.\n",
    "SSD_GRAPH_FILE = 'frozen_inference_graph.pb'\n",
    "RFCN_GRAPH_FILE = 'rfcn_resnet101_coco_11_06_2017/frozen_inference_graph.pb'\n",
    "FASTER_RCNN_GRAPH_FILE = 'faster_rcnn_inception_resnet_v2_atrous_coco_11_06_2017/frozen_inference_graph.pb'"
   ]
  },
  {
   "cell_type": "markdown",
   "metadata": {},
   "source": [
    "Below are utility functions. The main purpose of these is to draw the bounding boxes back onto the original image."
   ]
  },
  {
   "cell_type": "code",
   "execution_count": 5,
   "metadata": {},
   "outputs": [
    {
     "name": "stdout",
     "output_type": "stream",
     "text": [
      "Number of colors = 148\n"
     ]
    }
   ],
   "source": [
    "# Colors (one for each class)\n",
    "cmap = ImageColor.colormap\n",
    "print(\"Number of colors =\", len(cmap))\n",
    "COLOR_LIST = ['white', 'green', 'yellow', 'red']\n",
    "\n",
    "#\n",
    "# Utility funcs\n",
    "#\n",
    "\n",
    "def filter_boxes(min_score, boxes, scores, classes):\n",
    "    \"\"\"Return boxes with a confidence >= `min_score`\"\"\"\n",
    "    n = len(classes)\n",
    "    idxs = []\n",
    "    for i in range(n):\n",
    "        if scores[i] >= min_score:\n",
    "            idxs.append(i)\n",
    "    \n",
    "    filtered_boxes = boxes[idxs, ...]\n",
    "    filtered_scores = scores[idxs, ...]\n",
    "    filtered_classes = classes[idxs, ...]\n",
    "    return filtered_boxes, filtered_scores, filtered_classes\n",
    "\n",
    "def to_image_coords(boxes, height, width):\n",
    "    \"\"\"\n",
    "    The original box coordinate output is normalized, i.e [0, 1].\n",
    "    \n",
    "    This converts it back to the original coordinate based on the image\n",
    "    size.\n",
    "    \"\"\"\n",
    "    box_coords = np.zeros_like(boxes)\n",
    "    box_coords[:, 0] = boxes[:, 0] * height\n",
    "    box_coords[:, 1] = boxes[:, 1] * width\n",
    "    box_coords[:, 2] = boxes[:, 2] * height\n",
    "    box_coords[:, 3] = boxes[:, 3] * width\n",
    "    \n",
    "    return box_coords\n",
    "\n",
    "def draw_boxes(image, boxes, classes, thickness=4):\n",
    "    \"\"\"Draw bounding boxes on the image\"\"\"\n",
    "    draw = ImageDraw.Draw(image)\n",
    "    for i in range(len(boxes)):\n",
    "        bot, left, top, right = boxes[i, ...]\n",
    "        class_id = int(classes[i])\n",
    "        color = COLOR_LIST[int(classes[i])]\n",
    "        draw.line([(left, top), (left, bot), (right, bot), (right, top), (left, top)], width=thickness, fill=color)\n",
    "        \n",
    "def load_graph(graph_file):\n",
    "    \"\"\"Loads a frozen inference graph\"\"\"\n",
    "    graph = tf.Graph()\n",
    "    with graph.as_default():\n",
    "        od_graph_def = tf.GraphDef()\n",
    "        with tf.gfile.GFile(graph_file, 'rb') as fid:\n",
    "            serialized_graph = fid.read()\n",
    "            od_graph_def.ParseFromString(serialized_graph)\n",
    "            tf.import_graph_def(od_graph_def, name='')\n",
    "    return graph"
   ]
  },
  {
   "cell_type": "markdown",
   "metadata": {},
   "source": [
    "Below we load the graph and extract the relevant tensors using [`get_tensor_by_name`](https://www.tensorflow.org/api_docs/python/tf/Graph#get_tensor_by_name). These tensors reflect the input and outputs of the graph, or least the ones we care about for detecting objects."
   ]
  },
  {
   "cell_type": "code",
   "execution_count": 6,
   "metadata": {},
   "outputs": [],
   "source": [
    "detection_graph = load_graph(SSD_GRAPH_FILE)\n",
    "# detection_graph = load_graph(RFCN_GRAPH_FILE)\n",
    "# detection_graph = load_graph(FASTER_RCNN_GRAPH_FILE)\n",
    "\n",
    "# The input placeholder for the image.\n",
    "# `get_tensor_by_name` returns the Tensor with the associated name in the Graph.\n",
    "image_tensor = detection_graph.get_tensor_by_name('image_tensor:0')\n",
    "\n",
    "# Each box represents a part of the image where a particular object was detected.\n",
    "detection_boxes = detection_graph.get_tensor_by_name('detection_boxes:0')\n",
    "\n",
    "# Each score represent how level of confidence for each of the objects.\n",
    "# Score is shown on the result image, together with the class label.\n",
    "detection_scores = detection_graph.get_tensor_by_name('detection_scores:0')\n",
    "\n",
    "# The classification of the object (integer id).\n",
    "detection_classes = detection_graph.get_tensor_by_name('detection_classes:0')"
   ]
  },
  {
   "cell_type": "markdown",
   "metadata": {},
   "source": [
    "Run detection and classification on a sample image."
   ]
  },
  {
   "cell_type": "code",
   "execution_count": 7,
   "metadata": {},
   "outputs": [
    {
     "name": "stdout",
     "output_type": "stream",
     "text": [
      "<PIL.JpegImagePlugin.JpegImageFile image mode=RGB size=1920x1200 at 0x7F5EE477DAC8>\n"
     ]
    },
    {
     "data": {
      "image/png": "[encoded data removed]",
      "text/plain": [
       "<matplotlib.figure.Figure at 0x7f5ee5ad14a8>"
      ]
     },
     "metadata": {
      "needs_background": "light"
     },
     "output_type": "display_data"
    }
   ],
   "source": [
    "# Load a sample image.\n",
    "image = Image.open('Test3.jpg')\n",
    "print(image)\n",
    "image_np = np.expand_dims(np.asarray(image, dtype=np.uint8), 0)\n",
    "\n",
    "with tf.Session(graph=detection_graph) as sess:                \n",
    "    # Actual detection.\n",
    "    (boxes, scores, classes) = sess.run([detection_boxes, detection_scores, detection_classes], \n",
    "                                        feed_dict={image_tensor: image_np})\n",
    "\n",
    "    # Remove unnecessary dimensions\n",
    "    boxes = np.squeeze(boxes)\n",
    "    scores = np.squeeze(scores)\n",
    "    classes = np.squeeze(classes)\n",
    "\n",
    "    confidence_cutoff = 0.1\n",
    "    # Filter boxes with a confidence score less than `confidence_cutoff`\n",
    "    boxes, scores, classes = filter_boxes(confidence_cutoff, boxes, scores, classes)\n",
    "\n",
    "    # The current box coordinates are normalized to a range between 0 and 1.\n",
    "    # This converts the coordinates actual location on the image.\n",
    "    width, height = image.size\n",
    "    box_coords = to_image_coords(boxes, height, width)\n",
    "    # Each class with be represented by a differently colored box\n",
    "    draw_boxes(image, box_coords, classes)\n",
    "\n",
    "    plt.figure(figsize=(12, 8))\n",
    "    plt.imshow(image) "
   ]
  },
  {
   "cell_type": "markdown",
   "metadata": {},
   "source": [
    "## Timing Detection\n",
    "\n",
    "The model zoo comes with a variety of models, each its benefits and costs. Below you'll time some of these models. The general tradeoff being sacrificing model accuracy for seconds per frame (SPF)."
   ]
  },
  {
   "cell_type": "code",
   "execution_count": 8,
   "metadata": {},
   "outputs": [],
   "source": [
    "def time_detection(sess, img_height, img_width, runs=10):\n",
    "    image_tensor = sess.graph.get_tensor_by_name('image_tensor:0')\n",
    "    detection_boxes = sess.graph.get_tensor_by_name('detection_boxes:0')\n",
    "    detection_scores = sess.graph.get_tensor_by_name('detection_scores:0')\n",
    "    detection_classes = sess.graph.get_tensor_by_name('detection_classes:0')\n",
    "\n",
    "    # warmup\n",
    "    gen_image = np.uint8(np.random.randn(1, img_height, img_width, 3))\n",
    "    sess.run([detection_boxes, detection_scores, detection_classes], feed_dict={image_tensor: gen_image})\n",
    "    \n",
    "    times = np.zeros(runs)\n",
    "    for i in range(runs):\n",
    "        t0 = time.time()\n",
    "        sess.run([detection_boxes, detection_scores, detection_classes], feed_dict={image_tensor: image_np})\n",
    "        t1 = time.time()\n",
    "        times[i] = (t1 - t0) * 1000\n",
    "    return times"
   ]
  },
  {
   "cell_type": "code",
   "execution_count": 9,
   "metadata": {},
   "outputs": [],
   "source": [
    "with tf.Session(graph=detection_graph) as sess:\n",
    "    times = time_detection(sess, 600, 1000, runs=10)"
   ]
  },
  {
   "cell_type": "code",
   "execution_count": 10,
   "metadata": {},
   "outputs": [
    {
     "data": {
      "image/png": "[encoded data removed]",
      "text/plain": [
       "<matplotlib.figure.Figure at 0x7f5ee47f39b0>"
      ]
     },
     "metadata": {
      "needs_background": "light"
     },
     "output_type": "display_data"
    }
   ],
   "source": [
    "# Create a figure instance\n",
    "fig = plt.figure(1, figsize=(9, 6))\n",
    "\n",
    "# Create an axes instance\n",
    "ax = fig.add_subplot(111)\n",
    "plt.title(\"Object Detection Timings\")\n",
    "plt.ylabel(\"Time (ms)\")\n",
    "\n",
    "# Create the boxplot\n",
    "plt.style.use('fivethirtyeight')\n",
    "bp = ax.boxplot(times)"
   ]
  },
  {
   "cell_type": "markdown",
   "metadata": {},
   "source": [
    "### Exercise 4 - Model Tradeoffs\n",
    "\n",
    "Download a few models from the [model zoo](https://github.com/tensorflow/models/blob/master/research/object_detection/g3doc/detection_model_zoo.md) and compare the timings."
   ]
  },
  {
   "cell_type": "markdown",
   "metadata": {},
   "source": [
    "## Detection on a Video\n",
    "\n",
    "Finally run your pipeline on [this short video](https://s3-us-west-1.amazonaws.com/udacity-selfdrivingcar/advanced_deep_learning/driving.mp4)."
   ]
  },
  {
   "cell_type": "code",
   "execution_count": 11,
   "metadata": {},
   "outputs": [],
   "source": [
    "# Import everything needed to edit/save/watch video clips\n",
    "from moviepy.editor import VideoFileClip\n",
    "from IPython.display import HTML\n",
    "import tensorflow as tf\n",
    "import numpy as np\n",
    "from PIL import Image\n",
    "from PIL import ImageDraw\n"
   ]
  },
  {
   "cell_type": "code",
   "execution_count": 12,
   "metadata": {},
   "outputs": [
    {
     "data": {
      "text/html": [
       "\n",
       "<video width=\"960\" height=\"600\" controls>\n",
       "  <source src=\"driving.mp4\" type=\"video/mp4\">\n",
       "</video>\n"
      ],
      "text/plain": [
       "<IPython.core.display.HTML object>"
      ]
     },
     "execution_count": 12,
     "metadata": {},
     "output_type": "execute_result"
    }
   ],
   "source": [
    "HTML(\"\"\"\n",
    "<video width=\"960\" height=\"600\" controls>\n",
    "  <source src=\"{0}\" type=\"video/mp4\">\n",
    "</video>\n",
    "\"\"\".format('driving.mp4'))"
   ]
  },
  {
   "cell_type": "markdown",
   "metadata": {
    "collapsed": true
   },
   "source": [
    "### Exercise 5 - Object Detection on a Video\n",
    "\n",
    "Run an object detection pipeline on the above clip."
   ]
  },
  {
   "cell_type": "code",
   "execution_count": 13,
   "metadata": {},
   "outputs": [],
   "source": [
    "# clip = VideoFileClip('driving.mp4')\n",
    "clip = VideoFileClip('self_driving.mp4')"
   ]
  },
  {
   "cell_type": "code",
   "execution_count": 44,
   "metadata": {},
   "outputs": [],
   "source": [
    "# TODO: Complete this function.\n",
    "# The input is an NumPy array.\n",
    "# The output should also be a NumPy array.\n",
    "\n",
    "DRAW_BOX_ON_LIGHT_CHANGE = 1\n",
    "COLOR_LIST = ['white', 'green', 'yellow', 'red']\n",
    "last_class_id = 0\n",
    "\n",
    "def find_state_change_and_noise_filter(boxes_image_coord, classes, height):\n",
    "    flag = False\n",
    "    filtered_boxes_image_coord = []\n",
    "    new_classes = []\n",
    "    global last_class_id\n",
    "    \n",
    "    # class_count is defined as per COLOR_LIST. This is required to count \n",
    "    # which colored box has been detected more and then ignore the less dominant colored box\n",
    "    class_count = [0, 0, 0, 0]    \n",
    "    for i in range(len(classes)):\n",
    "        class_count[int(classes[i])] += 1\n",
    "\n",
    "    new_class_id = class_count.index(max(class_count))\n",
    "    if last_class_id is not new_class_id:\n",
    "        print('State changed')\n",
    "        for i in range(len(boxes_image_coord)):     \n",
    "            bot, left, top, right = boxes_image_coord[i, ...]  \n",
    "            \n",
    "            # Do not consider boxes which are lesser than certain height of the image.\n",
    "            # It is noise as the traffic lights need not be considered when it is on the vehicle\n",
    "            # Also, this is requried to filter the udacity logo box which is being detected as green light\n",
    "            if (int(classes[i]) is new_class_id) and (bot < (0.5 * height)):\n",
    "                filtered_boxes_image_coord.append(boxes_image_coord[i])\n",
    "                new_classes.append(classes[i])                \n",
    "                last_class_id = new_class_id\n",
    "                flag = True\n",
    "\n",
    "        return flag, np.array(filtered_boxes_image_coord), new_classes\n",
    "\n",
    "    return flag, np.array(filtered_boxes_image_coord), new_classes\n",
    "\n",
    "\n",
    "def draw_box(image, boxes, classes, thickness=6):\n",
    "    \"\"\"Draw bounding boxes on the image\"\"\"\n",
    "    height, width, dim = image.shape\n",
    "    image = Image.fromarray(image)\n",
    "    draw = ImageDraw.Draw(image)\n",
    "            \n",
    "    for i in range(len(boxes)):\n",
    "        bot, left, top, right = boxes[i, ...]    \n",
    "        color = COLOR_LIST[int(classes[i])]\n",
    "        draw.line([(left, top), (left, bot), (right, bot), (right, top), (left, top)], width=thickness, fill=color)        \n",
    "        \n",
    "    image = np.array(image)\n",
    "    return image\n",
    "    \n",
    "\n",
    "def pipeline(image):\n",
    "    state = True\n",
    "    image_np = np.expand_dims(np.asarray(image, dtype=np.uint8), 0)\n",
    "\n",
    "    # Actual detection.\n",
    "    (boxes, scores, classes) = sess.run([detection_boxes, detection_scores, detection_classes], \n",
    "                                        feed_dict={image_tensor: image_np})\n",
    "\n",
    "    # Remove unnecessary dimensions\n",
    "    boxes = np.squeeze(boxes)\n",
    "    scores = np.squeeze(scores)\n",
    "    classes = np.squeeze(classes)\n",
    "\n",
    "    confidence_cutoff = 0.165\n",
    "    # Filter boxes with a confidence score less than `confidence_cutoff`\n",
    "    boxes, scores, classes = filter_boxes(confidence_cutoff, boxes, scores, classes)\n",
    "    \n",
    "    if len(boxes) > 0:\n",
    "        # The current box coordinates are normalized to a range between 0 and 1.\n",
    "        # This converts the coordinates to actual location on the image.\n",
    "        height, width, dim = image.shape\n",
    "        box_coords = to_image_coords(boxes, height, width)           \n",
    "            \n",
    "        if DRAW_BOX_ON_LIGHT_CHANGE:\n",
    "            state, box_coords, classes = find_state_change_and_noise_filter(box_coords, classes, height)\n",
    "            \n",
    "        if state is True:\n",
    "            # Each class will be represented by a differently colored box\n",
    "            image = draw_box(image, box_coords, classes)\n",
    "    return image"
   ]
  },
  {
   "cell_type": "markdown",
   "metadata": {},
   "source": [
    "**[Sample solution](./exercise-solutions/e5.py)**"
   ]
  },
  {
   "cell_type": "code",
   "execution_count": 45,
   "metadata": {},
   "outputs": [
    {
     "name": "stdout",
     "output_type": "stream",
     "text": [
      "[MoviePy] >>>> Building video result_after_filter.mp4\n",
      "[MoviePy] Writing video result_after_filter.mp4\n"
     ]
    },
    {
     "name": "stderr",
     "output_type": "stream",
     "text": [
      "\n",
      "\n",
      "  0%|          | 0/540 [00:00<?, ?it/s]\u001b[A\u001b[A\n",
      "\n",
      "  0%|          | 1/540 [00:00<03:12,  2.79it/s]\u001b[A\u001b[A\n",
      "\n",
      "  0%|          | 2/540 [00:00<03:18,  2.71it/s]\u001b[A\u001b[A\n",
      "\n",
      "  1%|          | 3/540 [00:01<03:20,  2.68it/s]\u001b[A\u001b[A\n",
      "\n",
      "  1%|          | 4/540 [00:01<03:20,  2.67it/s]\u001b[A\u001b[A\n",
      "\n",
      "  1%|          | 5/540 [00:01<03:20,  2.67it/s]\u001b[A\u001b[A\n",
      "\n",
      "  1%|          | 6/540 [00:02<03:20,  2.66it/s]\u001b[A\u001b[A\n",
      "\n",
      "  1%|▏         | 7/540 [00:02<03:18,  2.68it/s]\u001b[A\u001b[A\n",
      "\n",
      "  1%|▏         | 8/540 [00:03<03:18,  2.67it/s]\u001b[A\u001b[A\n",
      "\n",
      "  2%|▏         | 9/540 [00:03<03:18,  2.67it/s]\u001b[A\u001b[A\n",
      "\n",
      "  2%|▏         | 10/540 [00:03<03:17,  2.68it/s]\u001b[A\u001b[A\n",
      "\n",
      "  2%|▏         | 11/540 [00:04<03:17,  2.68it/s]\u001b[A\u001b[A\n",
      "\n",
      "  2%|▏         | 12/540 [00:04<03:18,  2.66it/s]\u001b[A\u001b[A\n",
      "\n",
      "  2%|▏         | 13/540 [00:04<03:17,  2.67it/s]\u001b[A\u001b[A\n",
      "\n",
      "  3%|▎         | 14/540 [00:05<03:17,  2.66it/s]\u001b[A\u001b[A\n",
      "\n",
      "  3%|▎         | 15/540 [00:05<03:17,  2.66it/s]\u001b[A\u001b[A\n",
      "\n",
      "  3%|▎         | 16/540 [00:06<03:15,  2.68it/s]\u001b[A\u001b[A\n",
      "\n",
      "  3%|▎         | 17/540 [00:06<03:15,  2.67it/s]\u001b[A\u001b[A\n",
      "\n",
      "  3%|▎         | 18/540 [00:06<03:16,  2.65it/s]\u001b[A\u001b[A\n",
      "\n",
      "  4%|▎         | 19/540 [00:07<03:16,  2.64it/s]\u001b[A\u001b[A\n",
      "\n",
      "  4%|▎         | 20/540 [00:07<03:18,  2.62it/s]\u001b[A\u001b[A\n",
      "\n",
      "  4%|▍         | 21/540 [00:07<03:19,  2.60it/s]\u001b[A\u001b[A\n",
      "\n",
      "  4%|▍         | 22/540 [00:08<03:17,  2.62it/s]\u001b[A\u001b[A\n",
      "\n",
      "  4%|▍         | 23/540 [00:08<03:31,  2.45it/s]\u001b[A\u001b[A\n",
      "\n",
      "  4%|▍         | 24/540 [00:09<03:25,  2.51it/s]\u001b[A\u001b[A\n",
      "\n",
      "  5%|▍         | 25/540 [00:09<03:21,  2.56it/s]\u001b[A\u001b[A\n",
      "\n",
      "  5%|▍         | 26/540 [00:09<03:18,  2.59it/s]\u001b[A\u001b[A\n",
      "\n",
      "  5%|▌         | 27/540 [00:10<03:16,  2.61it/s]\u001b[A\u001b[A\n",
      "\n",
      "  5%|▌         | 28/540 [00:10<03:13,  2.64it/s]\u001b[A\u001b[A\n",
      "\n",
      "  5%|▌         | 29/540 [00:11<03:13,  2.65it/s]\u001b[A\u001b[A\n",
      "\n",
      "  6%|▌         | 30/540 [00:11<03:13,  2.64it/s]\u001b[A\u001b[A\n",
      "\n",
      "  6%|▌         | 31/540 [00:11<03:12,  2.65it/s]\u001b[A\u001b[A\n",
      "\n",
      "  6%|▌         | 32/540 [00:12<03:11,  2.65it/s]\u001b[A\u001b[A\n",
      "\n",
      "  6%|▌         | 33/540 [00:12<03:09,  2.67it/s]\u001b[A\u001b[A\n",
      "\n",
      "  6%|▋         | 34/540 [00:12<03:10,  2.65it/s]\u001b[A\u001b[A\n",
      "\n",
      "  6%|▋         | 35/540 [00:13<03:09,  2.66it/s]\u001b[A\u001b[A\n",
      "\n",
      "  7%|▋         | 36/540 [00:13<03:09,  2.66it/s]\u001b[A\u001b[A\n",
      "\n",
      "  7%|▋         | 37/540 [00:14<03:09,  2.66it/s]\u001b[A\u001b[A\n",
      "\n",
      "  7%|▋         | 38/540 [00:14<03:08,  2.67it/s]\u001b[A\u001b[A\n",
      "\n",
      "  7%|▋         | 39/540 [00:14<03:07,  2.67it/s]\u001b[A\u001b[A\n",
      "\n",
      "  7%|▋         | 40/540 [00:15<03:06,  2.69it/s]\u001b[A\u001b[A\n",
      "\n",
      "  8%|▊         | 41/540 [00:15<03:07,  2.66it/s]\u001b[A\u001b[A\n",
      "\n",
      "  8%|▊         | 42/540 [00:15<03:07,  2.65it/s]\u001b[A\u001b[A\n",
      "\n",
      "  8%|▊         | 43/540 [00:16<04:11,  1.98it/s]\u001b[A\u001b[A\n",
      "\n",
      "  8%|▊         | 44/540 [00:17<04:04,  2.03it/s]\u001b[A\u001b[A\n",
      "\n",
      "  8%|▊         | 45/540 [00:17<03:56,  2.09it/s]\u001b[A\u001b[A\n",
      "\n",
      "  9%|▊         | 46/540 [00:18<03:48,  2.16it/s]\u001b[A\u001b[A\n",
      "\n",
      "  9%|▊         | 47/540 [00:18<03:47,  2.16it/s]\u001b[A\u001b[A\n",
      "\n",
      "  9%|▉         | 48/540 [00:19<03:56,  2.08it/s]\u001b[A\u001b[A\n",
      "\n",
      "  9%|▉         | 49/540 [00:19<03:50,  2.13it/s]\u001b[A\u001b[A\n",
      "\n",
      "  9%|▉         | 50/540 [00:19<03:46,  2.16it/s]\u001b[A\u001b[A\n",
      "\n",
      "  9%|▉         | 51/540 [00:20<03:51,  2.12it/s]\u001b[A\u001b[A\n",
      "\n",
      " 10%|▉         | 52/540 [00:20<03:46,  2.15it/s]\u001b[A\u001b[A\n",
      "\n",
      " 10%|▉         | 53/540 [00:21<03:45,  2.16it/s]\u001b[A\u001b[A\n",
      "\n",
      " 10%|█         | 54/540 [00:21<03:51,  2.10it/s]\u001b[A\u001b[A\n",
      "\n",
      " 10%|█         | 55/540 [00:22<03:48,  2.12it/s]\u001b[A\u001b[A\n",
      "\n",
      " 10%|█         | 56/540 [00:22<03:43,  2.17it/s]\u001b[A\u001b[A\n",
      "\n",
      " 11%|█         | 57/540 [00:23<03:46,  2.13it/s]\u001b[A\u001b[A\n",
      "\n",
      " 11%|█         | 58/540 [00:23<03:44,  2.15it/s]\u001b[A\u001b[A\n",
      "\n",
      " 11%|█         | 59/540 [00:24<03:41,  2.17it/s]\u001b[A\u001b[A\n",
      "\n",
      " 11%|█         | 60/540 [00:24<03:36,  2.21it/s]\u001b[A\u001b[A\n",
      "\n",
      " 11%|█▏        | 61/540 [00:25<03:43,  2.14it/s]\u001b[A\u001b[A\n",
      "\n",
      " 11%|█▏        | 62/540 [00:25<03:36,  2.21it/s]\u001b[A\u001b[A\n",
      "\n",
      " 12%|█▏        | 63/540 [00:25<03:40,  2.16it/s]\u001b[A\u001b[A\n",
      "\n",
      " 12%|█▏        | 64/540 [00:26<03:35,  2.21it/s]\u001b[A\u001b[A\n",
      "\n",
      " 12%|█▏        | 65/540 [00:26<03:34,  2.21it/s]\u001b[A\u001b[A\n",
      "\n",
      " 12%|█▏        | 66/540 [00:27<03:40,  2.15it/s]\u001b[A\u001b[A\n",
      "\n",
      " 12%|█▏        | 67/540 [00:27<03:35,  2.19it/s]\u001b[A\u001b[A\n",
      "\n",
      " 13%|█▎        | 68/540 [00:28<03:37,  2.17it/s]\u001b[A\u001b[A\n",
      "\n",
      " 13%|█▎        | 69/540 [00:28<03:44,  2.10it/s]\u001b[A\u001b[A\n",
      "\n",
      " 13%|█▎        | 70/540 [00:29<03:37,  2.16it/s]\u001b[A\u001b[A\n",
      "\n",
      " 13%|█▎        | 71/540 [00:29<03:36,  2.17it/s]\u001b[A\u001b[A\n",
      "\n",
      " 13%|█▎        | 72/540 [00:30<03:40,  2.12it/s]\u001b[A\u001b[A\n",
      "\n",
      " 14%|█▎        | 73/540 [00:30<03:36,  2.15it/s]\u001b[A\u001b[A\n",
      "\n",
      " 14%|█▎        | 74/540 [00:31<03:33,  2.19it/s]\u001b[A\u001b[A\n",
      "\n",
      " 14%|█▍        | 75/540 [00:31<03:26,  2.25it/s]\u001b[A\u001b[A\n",
      "\n",
      " 14%|█▍        | 76/540 [00:31<03:25,  2.26it/s]\u001b[A\u001b[A\n",
      "\n",
      " 14%|█▍        | 77/540 [00:32<03:27,  2.23it/s]\u001b[A\u001b[A\n",
      "\n",
      " 14%|█▍        | 78/540 [00:32<03:32,  2.18it/s]\u001b[A\u001b[A\n",
      "\n",
      " 15%|█▍        | 79/540 [00:33<03:27,  2.22it/s]\u001b[A\u001b[A\n",
      "\n",
      " 15%|█▍        | 80/540 [00:33<03:33,  2.15it/s]"
     ]
    },
    {
     "name": "stdout",
     "output_type": "stream",
     "text": [
      "State changed\n"
     ]
    },
    {
     "name": "stderr",
     "output_type": "stream",
     "text": [
      "\u001b[A\u001b[A\n",
      "\n",
      " 15%|█▌        | 81/540 [00:34<03:30,  2.18it/s]"
     ]
    },
    {
     "name": "stdout",
     "output_type": "stream",
     "text": [
      "State changed\n"
     ]
    },
    {
     "name": "stderr",
     "output_type": "stream",
     "text": [
      "\u001b[A\u001b[A\n",
      "\n",
      " 15%|█▌        | 82/540 [00:34<03:31,  2.17it/s]"
     ]
    },
    {
     "name": "stdout",
     "output_type": "stream",
     "text": [
      "State changed\n"
     ]
    },
    {
     "name": "stderr",
     "output_type": "stream",
     "text": [
      "\u001b[A\u001b[A\n",
      "\n",
      " 15%|█▌        | 83/540 [00:35<03:25,  2.22it/s]"
     ]
    },
    {
     "name": "stdout",
     "output_type": "stream",
     "text": [
      "State changed\n"
     ]
    },
    {
     "name": "stderr",
     "output_type": "stream",
     "text": [
      "\u001b[A\u001b[A\n",
      "\n",
      " 16%|█▌        | 84/540 [00:35<03:32,  2.15it/s]\u001b[A\u001b[A\n",
      "\n",
      " 16%|█▌        | 85/540 [00:36<03:27,  2.20it/s]\u001b[A\u001b[A\n",
      "\n",
      " 16%|█▌        | 86/540 [00:36<03:24,  2.22it/s]\u001b[A\u001b[A\n",
      "\n",
      " 16%|█▌        | 87/540 [00:36<03:30,  2.15it/s]\u001b[A\u001b[A\n",
      "\n",
      " 16%|█▋        | 88/540 [00:37<03:27,  2.18it/s]\u001b[A\u001b[A\n",
      "\n",
      " 16%|█▋        | 89/540 [00:37<03:28,  2.16it/s]\u001b[A\u001b[A\n",
      "\n",
      " 17%|█▋        | 90/540 [00:38<03:35,  2.08it/s]\u001b[A\u001b[A\n",
      "\n",
      " 17%|█▋        | 91/540 [00:38<03:37,  2.07it/s]\u001b[A\u001b[A\n",
      "\n",
      " 17%|█▋        | 92/540 [00:39<03:28,  2.15it/s]\u001b[A\u001b[A\n",
      "\n",
      " 17%|█▋        | 93/540 [00:39<03:20,  2.23it/s]\u001b[A\u001b[A\n",
      "\n",
      " 17%|█▋        | 94/540 [00:40<03:25,  2.17it/s]\u001b[A\u001b[A\n",
      "\n",
      " 18%|█▊        | 95/540 [00:40<03:21,  2.21it/s]\u001b[A\u001b[A\n",
      "\n",
      " 18%|█▊        | 96/540 [00:41<03:26,  2.15it/s]"
     ]
    },
    {
     "name": "stdout",
     "output_type": "stream",
     "text": [
      "State changed\n"
     ]
    },
    {
     "name": "stderr",
     "output_type": "stream",
     "text": [
      "\u001b[A\u001b[A\n",
      "\n",
      " 18%|█▊        | 97/540 [00:41<03:25,  2.16it/s]\u001b[A\u001b[A\n",
      "\n",
      " 18%|█▊        | 98/540 [00:42<03:20,  2.20it/s]\u001b[A\u001b[A\n",
      "\n",
      " 18%|█▊        | 99/540 [00:42<03:15,  2.25it/s]\u001b[A\u001b[A\n",
      "\n",
      " 19%|█▊        | 100/540 [00:42<03:20,  2.19it/s]\u001b[A\u001b[A\n",
      "\n",
      " 19%|█▊        | 101/540 [00:43<03:14,  2.25it/s]\u001b[A\u001b[A\n",
      "\n",
      " 19%|█▉        | 102/540 [00:43<03:18,  2.20it/s]\u001b[A\u001b[A\n",
      "\n",
      " 19%|█▉        | 103/540 [00:44<03:18,  2.21it/s]\u001b[A\u001b[A\n",
      "\n",
      " 19%|█▉        | 104/540 [00:44<03:15,  2.23it/s]\u001b[A\u001b[A\n",
      "\n",
      " 19%|█▉        | 105/540 [00:45<03:11,  2.27it/s]\u001b[A\u001b[A\n",
      "\n",
      " 20%|█▉        | 106/540 [00:45<03:19,  2.18it/s]\u001b[A\u001b[A\n",
      "\n",
      " 20%|█▉        | 107/540 [00:46<03:14,  2.23it/s]"
     ]
    },
    {
     "name": "stdout",
     "output_type": "stream",
     "text": [
      "State changed\n"
     ]
    },
    {
     "name": "stderr",
     "output_type": "stream",
     "text": [
      "\u001b[A\u001b[A\n",
      "\n",
      " 20%|██        | 108/540 [00:46<03:20,  2.15it/s]\u001b[A\u001b[A\n",
      "\n",
      " 20%|██        | 109/540 [00:47<03:19,  2.16it/s]\u001b[A\u001b[A\n",
      "\n",
      " 20%|██        | 110/540 [00:47<03:16,  2.19it/s]\u001b[A\u001b[A\n",
      "\n",
      " 21%|██        | 111/540 [00:47<03:12,  2.23it/s]\u001b[A\u001b[A\n",
      "\n",
      " 21%|██        | 112/540 [00:48<03:19,  2.15it/s]\u001b[A\u001b[A\n",
      "\n",
      " 21%|██        | 113/540 [00:48<03:14,  2.20it/s]\u001b[A\u001b[A\n",
      "\n",
      " 21%|██        | 114/540 [00:49<03:17,  2.16it/s]\u001b[A\u001b[A\n",
      "\n",
      " 21%|██▏       | 115/540 [00:49<03:12,  2.21it/s]"
     ]
    },
    {
     "name": "stdout",
     "output_type": "stream",
     "text": [
      "State changed\n"
     ]
    },
    {
     "name": "stderr",
     "output_type": "stream",
     "text": [
      "\u001b[A\u001b[A\n",
      "\n",
      " 21%|██▏       | 116/540 [00:50<03:12,  2.21it/s]"
     ]
    },
    {
     "name": "stdout",
     "output_type": "stream",
     "text": [
      "State changed\n"
     ]
    },
    {
     "name": "stderr",
     "output_type": "stream",
     "text": [
      "\u001b[A\u001b[A\n",
      "\n",
      " 22%|██▏       | 117/540 [00:50<03:18,  2.13it/s]"
     ]
    },
    {
     "name": "stdout",
     "output_type": "stream",
     "text": [
      "State changed\n"
     ]
    },
    {
     "name": "stderr",
     "output_type": "stream",
     "text": [
      "\u001b[A\u001b[A\n",
      "\n",
      " 22%|██▏       | 118/540 [00:51<03:16,  2.14it/s]"
     ]
    },
    {
     "name": "stdout",
     "output_type": "stream",
     "text": [
      "State changed\n"
     ]
    },
    {
     "name": "stderr",
     "output_type": "stream",
     "text": [
      "\u001b[A\u001b[A\n",
      "\n",
      " 22%|██▏       | 119/540 [00:51<03:13,  2.17it/s]"
     ]
    },
    {
     "name": "stdout",
     "output_type": "stream",
     "text": [
      "State changed\n"
     ]
    },
    {
     "name": "stderr",
     "output_type": "stream",
     "text": [
      "\u001b[A\u001b[A\n",
      "\n",
      " 22%|██▏       | 120/540 [00:52<03:10,  2.20it/s]"
     ]
    },
    {
     "name": "stdout",
     "output_type": "stream",
     "text": [
      "State changed\n"
     ]
    },
    {
     "name": "stderr",
     "output_type": "stream",
     "text": [
      "\u001b[A\u001b[A\n",
      "\n",
      " 22%|██▏       | 121/540 [00:52<03:18,  2.11it/s]\u001b[A\u001b[A\n",
      "\n",
      " 23%|██▎       | 122/540 [00:52<03:11,  2.18it/s]\u001b[A\u001b[A\n",
      "\n",
      " 23%|██▎       | 123/540 [00:53<03:12,  2.16it/s]\u001b[A\u001b[A\n",
      "\n",
      " 23%|██▎       | 124/540 [00:53<03:07,  2.22it/s]\u001b[A\u001b[A\n",
      "\n",
      " 23%|██▎       | 125/540 [00:54<03:06,  2.22it/s]\u001b[A\u001b[A\n",
      "\n",
      " 23%|██▎       | 126/540 [00:54<03:13,  2.14it/s]\u001b[A\u001b[A\n",
      "\n",
      " 24%|██▎       | 127/540 [00:55<03:09,  2.18it/s]\u001b[A\u001b[A\n",
      "\n",
      " 24%|██▎       | 128/540 [00:55<03:11,  2.15it/s]\u001b[A\u001b[A\n",
      "\n",
      " 24%|██▍       | 129/540 [00:56<03:08,  2.18it/s]\u001b[A\u001b[A\n",
      "\n",
      " 24%|██▍       | 130/540 [00:56<03:03,  2.23it/s]\u001b[A\u001b[A\n",
      "\n",
      " 24%|██▍       | 131/540 [00:57<03:00,  2.27it/s]\u001b[A\u001b[A\n",
      "\n",
      " 24%|██▍       | 132/540 [00:57<03:08,  2.16it/s]\u001b[A\u001b[A\n",
      "\n",
      " 25%|██▍       | 133/540 [00:58<03:10,  2.14it/s]\u001b[A\u001b[A\n",
      "\n",
      " 25%|██▍       | 134/540 [00:58<03:08,  2.16it/s]\u001b[A\u001b[A\n",
      "\n",
      " 25%|██▌       | 135/540 [00:58<03:03,  2.20it/s]\u001b[A\u001b[A\n",
      "\n",
      " 25%|██▌       | 136/540 [00:59<03:07,  2.15it/s]\u001b[A\u001b[A\n",
      "\n",
      " 25%|██▌       | 137/540 [00:59<03:12,  2.09it/s]\u001b[A\u001b[A\n",
      "\n",
      " 26%|██▌       | 138/540 [01:00<03:07,  2.14it/s]\u001b[A\u001b[A\n",
      "\n",
      " 26%|██▌       | 139/540 [01:00<03:10,  2.10it/s]\u001b[A\u001b[A\n",
      "\n",
      " 26%|██▌       | 140/540 [01:01<03:04,  2.17it/s]"
     ]
    },
    {
     "name": "stdout",
     "output_type": "stream",
     "text": [
      "State changed\n"
     ]
    },
    {
     "name": "stderr",
     "output_type": "stream",
     "text": [
      "\u001b[A\u001b[A\n",
      "\n",
      " 26%|██▌       | 141/540 [01:01<03:06,  2.14it/s]"
     ]
    },
    {
     "name": "stdout",
     "output_type": "stream",
     "text": [
      "State changed\n"
     ]
    },
    {
     "name": "stderr",
     "output_type": "stream",
     "text": [
      "\u001b[A\u001b[A\n",
      "\n",
      " 26%|██▋       | 142/540 [01:02<03:01,  2.19it/s]"
     ]
    },
    {
     "name": "stdout",
     "output_type": "stream",
     "text": [
      "State changed\n"
     ]
    },
    {
     "name": "stderr",
     "output_type": "stream",
     "text": [
      "\u001b[A\u001b[A\n",
      "\n",
      " 26%|██▋       | 143/540 [01:02<03:01,  2.19it/s]"
     ]
    },
    {
     "name": "stdout",
     "output_type": "stream",
     "text": [
      "State changed\n"
     ]
    },
    {
     "name": "stderr",
     "output_type": "stream",
     "text": [
      "\u001b[A\u001b[A\n",
      "\n",
      " 27%|██▋       | 144/540 [01:03<03:07,  2.11it/s]"
     ]
    },
    {
     "name": "stdout",
     "output_type": "stream",
     "text": [
      "State changed\n"
     ]
    },
    {
     "name": "stderr",
     "output_type": "stream",
     "text": [
      "\u001b[A\u001b[A\n",
      "\n",
      " 27%|██▋       | 145/540 [01:03<03:01,  2.18it/s]"
     ]
    },
    {
     "name": "stdout",
     "output_type": "stream",
     "text": [
      "State changed\n"
     ]
    },
    {
     "name": "stderr",
     "output_type": "stream",
     "text": [
      "\u001b[A\u001b[A\n",
      "\n",
      " 27%|██▋       | 146/540 [01:04<03:00,  2.18it/s]"
     ]
    },
    {
     "name": "stdout",
     "output_type": "stream",
     "text": [
      "State changed\n"
     ]
    },
    {
     "name": "stderr",
     "output_type": "stream",
     "text": [
      "\u001b[A\u001b[A\n",
      "\n",
      " 27%|██▋       | 147/540 [01:04<03:06,  2.11it/s]"
     ]
    },
    {
     "name": "stdout",
     "output_type": "stream",
     "text": [
      "State changed\n"
     ]
    },
    {
     "name": "stderr",
     "output_type": "stream",
     "text": [
      "\u001b[A\u001b[A\n",
      "\n",
      " 27%|██▋       | 148/540 [01:05<03:04,  2.13it/s]"
     ]
    },
    {
     "name": "stdout",
     "output_type": "stream",
     "text": [
      "State changed\n"
     ]
    },
    {
     "name": "stderr",
     "output_type": "stream",
     "text": [
      "\u001b[A\u001b[A\n",
      "\n",
      " 28%|██▊       | 149/540 [01:05<03:00,  2.17it/s]"
     ]
    },
    {
     "name": "stdout",
     "output_type": "stream",
     "text": [
      "State changed\n"
     ]
    },
    {
     "name": "stderr",
     "output_type": "stream",
     "text": [
      "\u001b[A\u001b[A\n",
      "\n",
      " 28%|██▊       | 150/540 [01:05<02:56,  2.21it/s]"
     ]
    },
    {
     "name": "stdout",
     "output_type": "stream",
     "text": [
      "State changed\n"
     ]
    },
    {
     "name": "stderr",
     "output_type": "stream",
     "text": [
      "\u001b[A\u001b[A\n",
      "\n",
      " 28%|██▊       | 151/540 [01:06<03:00,  2.16it/s]"
     ]
    },
    {
     "name": "stdout",
     "output_type": "stream",
     "text": [
      "State changed\n"
     ]
    },
    {
     "name": "stderr",
     "output_type": "stream",
     "text": [
      "\u001b[A\u001b[A\n",
      "\n",
      " 28%|██▊       | 152/540 [01:06<02:55,  2.22it/s]"
     ]
    },
    {
     "name": "stdout",
     "output_type": "stream",
     "text": [
      "State changed\n"
     ]
    },
    {
     "name": "stderr",
     "output_type": "stream",
     "text": [
      "\u001b[A\u001b[A\n",
      "\n",
      " 28%|██▊       | 153/540 [01:07<03:01,  2.14it/s]"
     ]
    },
    {
     "name": "stdout",
     "output_type": "stream",
     "text": [
      "State changed\n"
     ]
    },
    {
     "name": "stderr",
     "output_type": "stream",
     "text": [
      "\u001b[A\u001b[A\n",
      "\n",
      " 29%|██▊       | 154/540 [01:07<02:58,  2.16it/s]"
     ]
    },
    {
     "name": "stdout",
     "output_type": "stream",
     "text": [
      "State changed\n"
     ]
    },
    {
     "name": "stderr",
     "output_type": "stream",
     "text": [
      "\u001b[A\u001b[A\n",
      "\n",
      " 29%|██▊       | 155/540 [01:08<03:12,  2.00it/s]"
     ]
    },
    {
     "name": "stdout",
     "output_type": "stream",
     "text": [
      "State changed\n"
     ]
    },
    {
     "name": "stderr",
     "output_type": "stream",
     "text": [
      "\u001b[A\u001b[A\n",
      "\n",
      " 29%|██▉       | 156/540 [01:08<03:13,  1.98it/s]"
     ]
    },
    {
     "name": "stdout",
     "output_type": "stream",
     "text": [
      "State changed\n"
     ]
    },
    {
     "name": "stderr",
     "output_type": "stream",
     "text": [
      "\u001b[A\u001b[A\n",
      "\n",
      " 29%|██▉       | 157/540 [01:09<03:05,  2.06it/s]"
     ]
    },
    {
     "name": "stdout",
     "output_type": "stream",
     "text": [
      "State changed\n"
     ]
    },
    {
     "name": "stderr",
     "output_type": "stream",
     "text": [
      "\u001b[A\u001b[A\n",
      "\n",
      " 29%|██▉       | 158/540 [01:09<03:01,  2.11it/s]"
     ]
    },
    {
     "name": "stdout",
     "output_type": "stream",
     "text": [
      "State changed\n"
     ]
    },
    {
     "name": "stderr",
     "output_type": "stream",
     "text": [
      "\u001b[A\u001b[A\n",
      "\n",
      " 29%|██▉       | 159/540 [01:10<03:06,  2.05it/s]"
     ]
    },
    {
     "name": "stdout",
     "output_type": "stream",
     "text": [
      "State changed\n"
     ]
    },
    {
     "name": "stderr",
     "output_type": "stream",
     "text": [
      "\u001b[A\u001b[A\n",
      "\n",
      " 30%|██▉       | 160/540 [01:10<03:01,  2.09it/s]\u001b[A\u001b[A\n",
      "\n",
      " 30%|██▉       | 161/540 [01:11<02:56,  2.15it/s]\u001b[A\u001b[A\n",
      "\n",
      " 30%|███       | 162/540 [01:11<02:50,  2.21it/s]\u001b[A\u001b[A\n",
      "\n",
      " 30%|███       | 163/540 [01:12<02:55,  2.14it/s]\u001b[A\u001b[A\n",
      "\n",
      " 30%|███       | 164/540 [01:12<02:56,  2.12it/s]\u001b[A\u001b[A\n",
      "\n",
      " 31%|███       | 165/540 [01:13<02:53,  2.16it/s]\u001b[A\u001b[A\n",
      "\n",
      " 31%|███       | 166/540 [01:13<02:48,  2.22it/s]\u001b[A\u001b[A\n",
      "\n",
      " 31%|███       | 167/540 [01:13<02:44,  2.27it/s]\u001b[A\u001b[A\n",
      "\n",
      " 31%|███       | 168/540 [01:14<02:50,  2.18it/s]\u001b[A\u001b[A\n",
      "\n",
      " 31%|███▏      | 169/540 [01:14<02:47,  2.22it/s]\u001b[A\u001b[A\n",
      "\n",
      " 31%|███▏      | 170/540 [01:15<02:46,  2.22it/s]\u001b[A\u001b[A\n",
      "\n",
      " 32%|███▏      | 171/540 [01:15<02:50,  2.16it/s]\u001b[A\u001b[A\n",
      "\n",
      " 32%|███▏      | 172/540 [01:16<02:46,  2.20it/s]\u001b[A\u001b[A\n",
      "\n",
      " 32%|███▏      | 173/540 [01:16<02:45,  2.21it/s]\u001b[A\u001b[A\n",
      "\n",
      " 32%|███▏      | 174/540 [01:17<02:49,  2.16it/s]\u001b[A\u001b[A\n",
      "\n",
      " 32%|███▏      | 175/540 [01:17<02:45,  2.20it/s]\u001b[A\u001b[A\n",
      "\n",
      " 33%|███▎      | 176/540 [01:17<02:45,  2.19it/s]\u001b[A\u001b[A\n",
      "\n",
      " 33%|███▎      | 177/540 [01:18<02:50,  2.13it/s]\u001b[A\u001b[A\n",
      "\n",
      " 33%|███▎      | 178/540 [01:18<02:49,  2.13it/s]\u001b[A\u001b[A\n",
      "\n",
      " 33%|███▎      | 179/540 [01:19<02:47,  2.16it/s]\u001b[A\u001b[A\n",
      "\n",
      " 33%|███▎      | 180/540 [01:19<02:43,  2.20it/s]\u001b[A\u001b[A\n",
      "\n",
      " 34%|███▎      | 181/540 [01:20<02:49,  2.12it/s]\u001b[A\u001b[A\n",
      "\n",
      " 34%|███▎      | 182/540 [01:20<02:43,  2.19it/s]\u001b[A\u001b[A\n",
      "\n",
      " 34%|███▍      | 183/540 [01:21<02:47,  2.13it/s]\u001b[A\u001b[A\n",
      "\n",
      " 34%|███▍      | 184/540 [01:21<02:42,  2.18it/s]\u001b[A\u001b[A\n",
      "\n",
      " 34%|███▍      | 185/540 [01:22<02:42,  2.19it/s]\u001b[A\u001b[A\n",
      "\n",
      " 34%|███▍      | 186/540 [01:22<02:48,  2.10it/s]\u001b[A\u001b[A\n",
      "\n",
      " 35%|███▍      | 187/540 [01:23<02:44,  2.15it/s]\u001b[A\u001b[A\n",
      "\n",
      " 35%|███▍      | 188/540 [01:23<02:39,  2.21it/s]\u001b[A\u001b[A\n",
      "\n",
      " 35%|███▌      | 189/540 [01:24<02:41,  2.17it/s]\u001b[A\u001b[A\n",
      "\n",
      " 35%|███▌      | 190/540 [01:24<02:40,  2.18it/s]\u001b[A\u001b[A\n",
      "\n",
      " 35%|███▌      | 191/540 [01:24<02:37,  2.21it/s]\u001b[A\u001b[A\n",
      "\n",
      " 36%|███▌      | 192/540 [01:25<02:34,  2.26it/s]\u001b[A\u001b[A\n",
      "\n",
      " 36%|███▌      | 193/540 [01:25<02:37,  2.21it/s]\u001b[A\u001b[A\n",
      "\n",
      " 36%|███▌      | 194/540 [01:26<02:35,  2.22it/s]\u001b[A\u001b[A\n",
      "\n",
      " 36%|███▌      | 195/540 [01:26<02:36,  2.20it/s]\u001b[A\u001b[A\n",
      "\n",
      " 36%|███▋      | 196/540 [01:27<02:40,  2.14it/s]\u001b[A\u001b[A\n",
      "\n",
      " 36%|███▋      | 197/540 [01:27<02:35,  2.21it/s]\u001b[A\u001b[A\n",
      "\n",
      " 37%|███▋      | 198/540 [01:28<02:38,  2.15it/s]\u001b[A\u001b[A\n",
      "\n",
      " 37%|███▋      | 199/540 [01:28<02:38,  2.16it/s]\u001b[A\u001b[A\n",
      "\n",
      " 37%|███▋      | 200/540 [01:29<02:34,  2.21it/s]\u001b[A\u001b[A\n",
      "\n",
      " 37%|███▋      | 201/540 [01:29<02:30,  2.25it/s]\u001b[A\u001b[A\n",
      "\n",
      " 37%|███▋      | 202/540 [01:29<02:32,  2.22it/s]\u001b[A\u001b[A\n",
      "\n",
      " 38%|███▊      | 203/540 [01:30<02:32,  2.21it/s]\u001b[A\u001b[A\n",
      "\n",
      " 38%|███▊      | 204/540 [01:30<02:30,  2.24it/s]\u001b[A\u001b[A\n",
      "\n",
      " 38%|███▊      | 205/540 [01:31<02:26,  2.29it/s]\u001b[A\u001b[A\n",
      "\n",
      " 38%|███▊      | 206/540 [01:31<02:24,  2.31it/s]\u001b[A\u001b[A\n",
      "\n",
      " 38%|███▊      | 207/540 [01:32<02:29,  2.22it/s]\u001b[A\u001b[A\n",
      "\n",
      " 39%|███▊      | 208/540 [01:32<02:28,  2.24it/s]\u001b[A\u001b[A\n",
      "\n",
      " 39%|███▊      | 209/540 [01:33<02:26,  2.26it/s]\u001b[A\u001b[A\n",
      "\n",
      " 39%|███▉      | 210/540 [01:33<02:22,  2.31it/s]\u001b[A\u001b[A\n",
      "\n",
      " 39%|███▉      | 211/540 [01:33<02:28,  2.22it/s]\u001b[A\u001b[A\n",
      "\n",
      " 39%|███▉      | 212/540 [01:34<02:28,  2.20it/s]\u001b[A\u001b[A\n",
      "\n",
      " 39%|███▉      | 213/540 [01:34<02:26,  2.23it/s]\u001b[A\u001b[A\n",
      "\n",
      " 40%|███▉      | 214/540 [01:35<02:24,  2.26it/s]\u001b[A\u001b[A\n",
      "\n",
      " 40%|███▉      | 215/540 [01:35<02:21,  2.30it/s]\u001b[A\u001b[A\n",
      "\n",
      " 40%|████      | 216/540 [01:36<02:26,  2.21it/s]\u001b[A\u001b[A\n",
      "\n",
      " 40%|████      | 217/540 [01:36<02:24,  2.24it/s]\u001b[A\u001b[A\n",
      "\n",
      " 40%|████      | 218/540 [01:37<02:22,  2.27it/s]\u001b[A\u001b[A\n",
      "\n",
      " 41%|████      | 219/540 [01:37<02:19,  2.29it/s]\u001b[A\u001b[A\n",
      "\n",
      " 41%|████      | 220/540 [01:37<02:25,  2.20it/s]\u001b[A\u001b[A\n",
      "\n",
      " 41%|████      | 221/540 [01:38<02:38,  2.01it/s]\u001b[A\u001b[A\n",
      "\n",
      " 41%|████      | 222/540 [01:38<02:31,  2.09it/s]\u001b[A\u001b[A\n",
      "\n",
      " 41%|████▏     | 223/540 [01:39<02:26,  2.17it/s]\u001b[A\u001b[A\n",
      "\n",
      " 41%|████▏     | 224/540 [01:39<02:28,  2.13it/s]\u001b[A\u001b[A\n",
      "\n",
      " 42%|████▏     | 225/540 [01:40<02:25,  2.16it/s]\u001b[A\u001b[A\n",
      "\n",
      " 42%|████▏     | 226/540 [01:40<02:21,  2.22it/s]\u001b[A\u001b[A\n",
      "\n",
      " 42%|████▏     | 227/540 [01:41<02:18,  2.27it/s]\u001b[A\u001b[A\n",
      "\n",
      " 42%|████▏     | 228/540 [01:41<02:23,  2.17it/s]"
     ]
    },
    {
     "name": "stdout",
     "output_type": "stream",
     "text": [
      "State changed\n"
     ]
    },
    {
     "name": "stderr",
     "output_type": "stream",
     "text": [
      "\u001b[A\u001b[A\n",
      "\n",
      " 42%|████▏     | 229/540 [01:42<02:22,  2.19it/s]"
     ]
    },
    {
     "name": "stdout",
     "output_type": "stream",
     "text": [
      "State changed\n"
     ]
    },
    {
     "name": "stderr",
     "output_type": "stream",
     "text": [
      "\u001b[A\u001b[A\n",
      "\n",
      " 43%|████▎     | 230/540 [01:42<02:19,  2.22it/s]"
     ]
    },
    {
     "name": "stdout",
     "output_type": "stream",
     "text": [
      "State changed\n"
     ]
    },
    {
     "name": "stderr",
     "output_type": "stream",
     "text": [
      "\u001b[A\u001b[A\n",
      "\n",
      " 43%|████▎     | 231/540 [01:42<02:17,  2.26it/s]"
     ]
    },
    {
     "name": "stdout",
     "output_type": "stream",
     "text": [
      "State changed\n"
     ]
    },
    {
     "name": "stderr",
     "output_type": "stream",
     "text": [
      "\u001b[A\u001b[A\n",
      "\n",
      " 43%|████▎     | 232/540 [01:43<02:18,  2.22it/s]"
     ]
    },
    {
     "name": "stdout",
     "output_type": "stream",
     "text": [
      "State changed\n"
     ]
    },
    {
     "name": "stderr",
     "output_type": "stream",
     "text": [
      "\u001b[A\u001b[A\n",
      "\n",
      " 43%|████▎     | 233/540 [01:43<02:19,  2.20it/s]"
     ]
    },
    {
     "name": "stdout",
     "output_type": "stream",
     "text": [
      "State changed\n"
     ]
    },
    {
     "name": "stderr",
     "output_type": "stream",
     "text": [
      "\u001b[A\u001b[A\n",
      "\n",
      " 43%|████▎     | 234/540 [01:44<02:18,  2.21it/s]"
     ]
    },
    {
     "name": "stdout",
     "output_type": "stream",
     "text": [
      "State changed\n"
     ]
    },
    {
     "name": "stderr",
     "output_type": "stream",
     "text": [
      "\u001b[A\u001b[A\n",
      "\n",
      " 44%|████▎     | 235/540 [01:44<02:15,  2.26it/s]"
     ]
    },
    {
     "name": "stdout",
     "output_type": "stream",
     "text": [
      "State changed\n"
     ]
    },
    {
     "name": "stderr",
     "output_type": "stream",
     "text": [
      "\u001b[A\u001b[A\n",
      "\n",
      " 44%|████▎     | 236/540 [01:45<02:12,  2.29it/s]"
     ]
    },
    {
     "name": "stdout",
     "output_type": "stream",
     "text": [
      "State changed\n"
     ]
    },
    {
     "name": "stderr",
     "output_type": "stream",
     "text": [
      "\u001b[A\u001b[A\n",
      "\n",
      " 44%|████▍     | 237/540 [01:45<02:18,  2.19it/s]"
     ]
    },
    {
     "name": "stdout",
     "output_type": "stream",
     "text": [
      "State changed\n"
     ]
    },
    {
     "name": "stderr",
     "output_type": "stream",
     "text": [
      "\u001b[A\u001b[A\n",
      "\n",
      " 44%|████▍     | 238/540 [01:46<02:17,  2.19it/s]"
     ]
    },
    {
     "name": "stdout",
     "output_type": "stream",
     "text": [
      "State changed\n"
     ]
    },
    {
     "name": "stderr",
     "output_type": "stream",
     "text": [
      "\u001b[A\u001b[A\n",
      "\n",
      " 44%|████▍     | 239/540 [01:46<02:14,  2.23it/s]"
     ]
    },
    {
     "name": "stdout",
     "output_type": "stream",
     "text": [
      "State changed\n"
     ]
    },
    {
     "name": "stderr",
     "output_type": "stream",
     "text": [
      "\u001b[A\u001b[A\n",
      "\n",
      " 44%|████▍     | 240/540 [01:47<02:12,  2.27it/s]"
     ]
    },
    {
     "name": "stdout",
     "output_type": "stream",
     "text": [
      "State changed\n"
     ]
    },
    {
     "name": "stderr",
     "output_type": "stream",
     "text": [
      "\u001b[A\u001b[A\n",
      "\n",
      " 45%|████▍     | 241/540 [01:47<02:17,  2.18it/s]"
     ]
    },
    {
     "name": "stdout",
     "output_type": "stream",
     "text": [
      "State changed\n"
     ]
    },
    {
     "name": "stderr",
     "output_type": "stream",
     "text": [
      "\u001b[A\u001b[A\n",
      "\n",
      " 45%|████▍     | 242/540 [01:47<02:16,  2.18it/s]"
     ]
    },
    {
     "name": "stdout",
     "output_type": "stream",
     "text": [
      "State changed\n"
     ]
    },
    {
     "name": "stderr",
     "output_type": "stream",
     "text": [
      "\u001b[A\u001b[A\n",
      "\n",
      " 45%|████▌     | 243/540 [01:48<02:13,  2.23it/s]"
     ]
    },
    {
     "name": "stdout",
     "output_type": "stream",
     "text": [
      "State changed\n"
     ]
    },
    {
     "name": "stderr",
     "output_type": "stream",
     "text": [
      "\u001b[A\u001b[A\n",
      "\n",
      " 45%|████▌     | 244/540 [01:48<02:11,  2.26it/s]"
     ]
    },
    {
     "name": "stdout",
     "output_type": "stream",
     "text": [
      "State changed\n"
     ]
    },
    {
     "name": "stderr",
     "output_type": "stream",
     "text": [
      "\u001b[A\u001b[A\n",
      "\n",
      " 45%|████▌     | 245/540 [01:49<02:14,  2.19it/s]"
     ]
    },
    {
     "name": "stdout",
     "output_type": "stream",
     "text": [
      "State changed\n"
     ]
    },
    {
     "name": "stderr",
     "output_type": "stream",
     "text": [
      "\u001b[A\u001b[A\n",
      "\n",
      " 46%|████▌     | 246/540 [01:49<02:13,  2.20it/s]"
     ]
    },
    {
     "name": "stdout",
     "output_type": "stream",
     "text": [
      "State changed\n"
     ]
    },
    {
     "name": "stderr",
     "output_type": "stream",
     "text": [
      "\u001b[A\u001b[A\n",
      "\n",
      " 46%|████▌     | 247/540 [01:50<02:10,  2.25it/s]"
     ]
    },
    {
     "name": "stdout",
     "output_type": "stream",
     "text": [
      "State changed\n"
     ]
    },
    {
     "name": "stderr",
     "output_type": "stream",
     "text": [
      "\u001b[A\u001b[A\n",
      "\n",
      " 46%|████▌     | 248/540 [01:50<02:08,  2.28it/s]"
     ]
    },
    {
     "name": "stdout",
     "output_type": "stream",
     "text": [
      "State changed\n"
     ]
    },
    {
     "name": "stderr",
     "output_type": "stream",
     "text": [
      "\u001b[A\u001b[A\n",
      "\n",
      " 46%|████▌     | 249/540 [01:51<02:12,  2.19it/s]\u001b[A\u001b[A\n",
      "\n",
      " 46%|████▋     | 250/540 [01:51<02:12,  2.19it/s]\u001b[A\u001b[A\n",
      "\n",
      " 46%|████▋     | 251/540 [01:52<02:15,  2.14it/s]\u001b[A\u001b[A\n",
      "\n",
      " 47%|████▋     | 252/540 [01:52<02:14,  2.13it/s]\u001b[A\u001b[A\n",
      "\n",
      " 47%|████▋     | 253/540 [01:53<02:17,  2.09it/s]\u001b[A\u001b[A\n",
      "\n",
      " 47%|████▋     | 254/540 [01:53<02:15,  2.12it/s]\u001b[A\u001b[A\n",
      "\n",
      " 47%|████▋     | 255/540 [01:53<02:10,  2.19it/s]\u001b[A\u001b[A\n",
      "\n",
      " 47%|████▋     | 256/540 [01:54<02:06,  2.24it/s]\u001b[A\u001b[A\n",
      "\n",
      " 48%|████▊     | 257/540 [01:54<02:11,  2.15it/s]\u001b[A\u001b[A\n",
      "\n",
      " 48%|████▊     | 258/540 [01:55<02:09,  2.18it/s]\u001b[A\u001b[A\n",
      "\n",
      " 48%|████▊     | 259/540 [01:55<02:05,  2.24it/s]\u001b[A\u001b[A\n",
      "\n",
      " 48%|████▊     | 260/540 [01:56<02:03,  2.27it/s]\u001b[A\u001b[A\n",
      "\n",
      " 48%|████▊     | 261/540 [01:56<02:07,  2.19it/s]\u001b[A\u001b[A\n",
      "\n",
      " 49%|████▊     | 262/540 [01:57<02:06,  2.20it/s]\u001b[A\u001b[A\n",
      "\n",
      " 49%|████▊     | 263/540 [01:57<02:04,  2.23it/s]\u001b[A\u001b[A\n",
      "\n",
      " 49%|████▉     | 264/540 [01:57<02:02,  2.26it/s]\u001b[A\u001b[A\n",
      "\n",
      " 49%|████▉     | 265/540 [01:58<02:05,  2.19it/s]\u001b[A\u001b[A\n",
      "\n",
      " 49%|████▉     | 266/540 [01:58<02:06,  2.16it/s]\u001b[A\u001b[A\n",
      "\n",
      " 49%|████▉     | 267/540 [01:59<02:05,  2.17it/s]\u001b[A\u001b[A\n",
      "\n",
      " 50%|████▉     | 268/540 [01:59<02:02,  2.23it/s]\u001b[A\u001b[A\n",
      "\n",
      " 50%|████▉     | 269/540 [02:00<01:59,  2.27it/s]\u001b[A\u001b[A\n",
      "\n",
      " 50%|█████     | 270/540 [02:00<02:03,  2.19it/s]\u001b[A\u001b[A\n",
      "\n",
      " 50%|█████     | 271/540 [02:01<02:01,  2.22it/s]\u001b[A\u001b[A\n",
      "\n",
      " 50%|█████     | 272/540 [02:01<01:59,  2.25it/s]\u001b[A\u001b[A\n",
      "\n",
      " 51%|█████     | 273/540 [02:01<01:56,  2.29it/s]\u001b[A\u001b[A\n",
      "\n",
      " 51%|█████     | 274/540 [02:02<01:59,  2.22it/s]\u001b[A\u001b[A\n",
      "\n",
      " 51%|█████     | 275/540 [02:02<02:01,  2.18it/s]\u001b[A\u001b[A\n",
      "\n",
      " 51%|█████     | 276/540 [02:03<01:59,  2.20it/s]\u001b[A\u001b[A\n",
      "\n",
      " 51%|█████▏    | 277/540 [02:03<01:57,  2.23it/s]\u001b[A\u001b[A\n",
      "\n",
      " 51%|█████▏    | 278/540 [02:04<01:59,  2.20it/s]\u001b[A\u001b[A\n",
      "\n",
      " 52%|█████▏    | 279/540 [02:04<02:02,  2.13it/s]\u001b[A\u001b[A\n",
      "\n",
      " 52%|█████▏    | 280/540 [02:05<02:00,  2.16it/s]\u001b[A\u001b[A\n",
      "\n",
      " 52%|█████▏    | 281/540 [02:05<01:57,  2.20it/s]\u001b[A\u001b[A\n",
      "\n",
      " 52%|█████▏    | 282/540 [02:06<01:55,  2.24it/s]\u001b[A\u001b[A\n",
      "\n",
      " 52%|█████▏    | 283/540 [02:06<01:57,  2.18it/s]\u001b[A\u001b[A\n",
      "\n",
      " 53%|█████▎    | 284/540 [02:06<01:54,  2.24it/s]\u001b[A\u001b[A\n",
      "\n",
      " 53%|█████▎    | 285/540 [02:07<01:55,  2.20it/s]\u001b[A\u001b[A\n",
      "\n",
      " 53%|█████▎    | 286/540 [02:07<01:56,  2.17it/s]\u001b[A\u001b[A\n",
      "\n",
      " 53%|█████▎    | 287/540 [02:08<01:54,  2.21it/s]\u001b[A\u001b[A\n",
      "\n",
      " 53%|█████▎    | 288/540 [02:09<02:06,  1.99it/s]\u001b[A\u001b[A\n",
      "\n",
      " 54%|█████▎    | 289/540 [02:09<02:03,  2.03it/s]\u001b[A\u001b[A\n",
      "\n",
      " 54%|█████▎    | 290/540 [02:09<01:58,  2.10it/s]\u001b[A\u001b[A\n",
      "\n",
      " 54%|█████▍    | 291/540 [02:10<01:56,  2.14it/s]\u001b[A\u001b[A\n",
      "\n",
      " 54%|█████▍    | 292/540 [02:10<01:52,  2.21it/s]\u001b[A\u001b[A\n",
      "\n",
      " 54%|█████▍    | 293/540 [02:11<01:51,  2.21it/s]\u001b[A\u001b[A\n",
      "\n",
      " 54%|█████▍    | 294/540 [02:11<01:51,  2.21it/s]\u001b[A\u001b[A\n",
      "\n",
      " 55%|█████▍    | 295/540 [02:12<01:49,  2.24it/s]\u001b[A\u001b[A\n",
      "\n",
      " 55%|█████▍    | 296/540 [02:12<01:46,  2.28it/s]\u001b[A\u001b[A\n",
      "\n",
      " 55%|█████▌    | 297/540 [02:12<01:45,  2.31it/s]\u001b[A\u001b[A\n",
      "\n",
      " 55%|█████▌    | 298/540 [02:13<01:47,  2.26it/s]\u001b[A\u001b[A\n",
      "\n",
      " 55%|█████▌    | 299/540 [02:13<01:43,  2.32it/s]\u001b[A\u001b[A\n",
      "\n",
      " 56%|█████▌    | 300/540 [02:14<01:46,  2.25it/s]\u001b[A\u001b[A\n",
      "\n",
      " 56%|█████▌    | 301/540 [02:14<01:46,  2.24it/s]\u001b[A\u001b[A\n",
      "\n",
      " 56%|█████▌    | 302/540 [02:15<01:44,  2.28it/s]\u001b[A\u001b[A\n",
      "\n",
      " 56%|█████▌    | 303/540 [02:15<01:42,  2.31it/s]\u001b[A\u001b[A\n",
      "\n",
      " 56%|█████▋    | 304/540 [02:16<01:43,  2.27it/s]\u001b[A\u001b[A\n",
      "\n",
      " 56%|█████▋    | 305/540 [02:16<01:41,  2.32it/s]\u001b[A\u001b[A\n",
      "\n",
      " 57%|█████▋    | 306/540 [02:16<01:44,  2.24it/s]\u001b[A\u001b[A\n",
      "\n",
      " 57%|█████▋    | 307/540 [02:17<01:44,  2.24it/s]\u001b[A\u001b[A\n",
      "\n",
      " 57%|█████▋    | 308/540 [02:17<01:42,  2.26it/s]\u001b[A\u001b[A\n",
      "\n",
      " 57%|█████▋    | 309/540 [02:18<01:41,  2.28it/s]\u001b[A\u001b[A\n",
      "\n",
      " 57%|█████▋    | 310/540 [02:18<01:42,  2.24it/s]\u001b[A\u001b[A\n",
      "\n",
      " 58%|█████▊    | 311/540 [02:19<01:40,  2.29it/s]\u001b[A\u001b[A\n",
      "\n",
      " 58%|█████▊    | 312/540 [02:19<01:43,  2.21it/s]\u001b[A\u001b[A\n",
      "\n",
      " 58%|█████▊    | 313/540 [02:20<01:42,  2.22it/s]\u001b[A\u001b[A\n",
      "\n",
      " 58%|█████▊    | 314/540 [02:20<01:40,  2.26it/s]\u001b[A\u001b[A\n",
      "\n",
      " 58%|█████▊    | 315/540 [02:20<01:38,  2.29it/s]\u001b[A\u001b[A\n",
      "\n",
      " 59%|█████▊    | 316/540 [02:21<01:39,  2.25it/s]\u001b[A\u001b[A\n",
      "\n",
      " 59%|█████▊    | 317/540 [02:21<01:41,  2.19it/s]\u001b[A\u001b[A\n",
      "\n",
      " 59%|█████▉    | 318/540 [02:22<01:39,  2.23it/s]\u001b[A\u001b[A\n",
      "\n",
      " 59%|█████▉    | 319/540 [02:22<01:36,  2.28it/s]\u001b[A\u001b[A\n",
      "\n",
      " 59%|█████▉    | 320/540 [02:23<01:34,  2.32it/s]\u001b[A\u001b[A\n",
      "\n",
      " 59%|█████▉    | 321/540 [02:23<01:35,  2.30it/s]\u001b[A\u001b[A\n",
      "\n",
      " 60%|█████▉    | 322/540 [02:23<01:34,  2.32it/s]\u001b[A\u001b[A\n",
      "\n",
      " 60%|█████▉    | 323/540 [02:24<01:32,  2.35it/s]\u001b[A\u001b[A\n",
      "\n",
      " 60%|██████    | 324/540 [02:24<01:30,  2.38it/s]\u001b[A\u001b[A\n",
      "\n",
      " 60%|██████    | 325/540 [02:25<01:33,  2.29it/s]\u001b[A\u001b[A\n",
      "\n",
      " 60%|██████    | 326/540 [02:25<01:32,  2.31it/s]\u001b[A\u001b[A\n",
      "\n",
      " 61%|██████    | 327/540 [02:26<01:30,  2.35it/s]\u001b[A\u001b[A\n",
      "\n",
      " 61%|██████    | 328/540 [02:26<01:29,  2.38it/s]\u001b[A\u001b[A\n",
      "\n",
      " 61%|██████    | 329/540 [02:26<01:30,  2.33it/s]\u001b[A\u001b[A\n",
      "\n",
      " 61%|██████    | 330/540 [02:27<01:29,  2.34it/s]\u001b[A\u001b[A\n",
      "\n",
      " 61%|██████▏   | 331/540 [02:27<01:28,  2.36it/s]\u001b[A\u001b[A\n",
      "\n",
      " 61%|██████▏   | 332/540 [02:28<01:27,  2.39it/s]\u001b[A\u001b[A\n",
      "\n",
      " 62%|██████▏   | 333/540 [02:28<01:27,  2.37it/s]\u001b[A\u001b[A\n",
      "\n",
      " 62%|██████▏   | 334/540 [02:29<01:26,  2.37it/s]\u001b[A\u001b[A\n",
      "\n",
      " 62%|██████▏   | 335/540 [02:29<01:25,  2.40it/s]\u001b[A\u001b[A\n",
      "\n",
      " 62%|██████▏   | 336/540 [02:29<01:24,  2.42it/s]\u001b[A\u001b[A\n",
      "\n",
      " 62%|██████▏   | 337/540 [02:30<01:25,  2.38it/s]\u001b[A\u001b[A\n",
      "\n",
      " 63%|██████▎   | 338/540 [02:30<01:24,  2.39it/s]\u001b[A\u001b[A\n",
      "\n",
      " 63%|██████▎   | 339/540 [02:31<01:23,  2.42it/s]\u001b[A\u001b[A\n",
      "\n",
      " 63%|██████▎   | 340/540 [02:31<01:22,  2.43it/s]\u001b[A\u001b[A\n",
      "\n",
      " 63%|██████▎   | 341/540 [02:31<01:22,  2.42it/s]\u001b[A\u001b[A\n",
      "\n",
      " 63%|██████▎   | 342/540 [02:32<01:23,  2.38it/s]\u001b[A\u001b[A\n",
      "\n",
      " 64%|██████▎   | 343/540 [02:32<01:21,  2.42it/s]\u001b[A\u001b[A\n",
      "\n",
      " 64%|██████▎   | 344/540 [02:33<01:20,  2.44it/s]\u001b[A\u001b[A\n",
      "\n",
      " 64%|██████▍   | 345/540 [02:33<01:20,  2.43it/s]\u001b[A\u001b[A\n",
      "\n",
      " 64%|██████▍   | 346/540 [02:34<01:19,  2.43it/s]\u001b[A\u001b[A\n",
      "\n",
      " 64%|██████▍   | 347/540 [02:34<01:19,  2.44it/s]\u001b[A\u001b[A\n",
      "\n",
      " 64%|██████▍   | 348/540 [02:34<01:17,  2.47it/s]\u001b[A\u001b[A\n",
      "\n",
      " 65%|██████▍   | 349/540 [02:35<01:18,  2.44it/s]\u001b[A\u001b[A\n",
      "\n",
      " 65%|██████▍   | 350/540 [02:35<01:17,  2.44it/s]\u001b[A\u001b[A\n",
      "\n",
      " 65%|██████▌   | 351/540 [02:36<01:16,  2.46it/s]\u001b[A\u001b[A\n",
      "\n",
      " 65%|██████▌   | 352/540 [02:36<01:16,  2.47it/s]\u001b[A\u001b[A\n",
      "\n",
      " 65%|██████▌   | 353/540 [02:36<01:16,  2.44it/s]\u001b[A\u001b[A\n",
      "\n",
      " 66%|██████▌   | 354/540 [02:37<01:17,  2.41it/s]\u001b[A\u001b[A\n",
      "\n",
      " 66%|██████▌   | 355/540 [02:37<01:16,  2.40it/s]"
     ]
    },
    {
     "name": "stdout",
     "output_type": "stream",
     "text": [
      "State changed\n"
     ]
    },
    {
     "name": "stderr",
     "output_type": "stream",
     "text": [
      "\u001b[A\u001b[A\n",
      "\n",
      " 66%|██████▌   | 356/540 [02:38<01:21,  2.25it/s]\u001b[A\u001b[A\n",
      "\n",
      " 66%|██████▌   | 357/540 [02:38<01:22,  2.22it/s]\u001b[A\u001b[A\n",
      "\n",
      " 66%|██████▋   | 358/540 [02:39<01:19,  2.28it/s]\u001b[A\u001b[A\n",
      "\n",
      " 66%|██████▋   | 359/540 [02:39<01:17,  2.34it/s]\u001b[A\u001b[A\n",
      "\n",
      " 67%|██████▋   | 360/540 [02:39<01:15,  2.39it/s]\u001b[A\u001b[A\n",
      "\n",
      " 67%|██████▋   | 361/540 [02:40<01:14,  2.40it/s]\u001b[A\u001b[A\n",
      "\n",
      " 67%|██████▋   | 362/540 [02:40<01:13,  2.41it/s]\u001b[A\u001b[A\n",
      "\n",
      " 67%|██████▋   | 363/540 [02:41<01:12,  2.44it/s]\u001b[A\u001b[A\n",
      "\n",
      " 67%|██████▋   | 364/540 [02:41<01:11,  2.46it/s]\u001b[A\u001b[A\n",
      "\n",
      " 68%|██████▊   | 365/540 [02:41<01:11,  2.46it/s]\u001b[A\u001b[A\n",
      "\n",
      " 68%|██████▊   | 366/540 [02:42<01:11,  2.45it/s]\u001b[A\u001b[A\n",
      "\n",
      " 68%|██████▊   | 367/540 [02:42<01:10,  2.46it/s]\u001b[A\u001b[A\n",
      "\n",
      " 68%|██████▊   | 368/540 [02:43<01:09,  2.48it/s]\u001b[A\u001b[A\n",
      "\n",
      " 68%|██████▊   | 369/540 [02:43<01:09,  2.47it/s]\u001b[A\u001b[A\n",
      "\n",
      " 69%|██████▊   | 370/540 [02:43<01:09,  2.45it/s]\u001b[A\u001b[A\n",
      "\n",
      " 69%|██████▊   | 371/540 [02:44<01:08,  2.46it/s]\u001b[A\u001b[A\n",
      "\n",
      " 69%|██████▉   | 372/540 [02:44<01:07,  2.48it/s]\u001b[A\u001b[A\n",
      "\n",
      " 69%|██████▉   | 373/540 [02:45<01:07,  2.47it/s]\u001b[A\u001b[A\n",
      "\n",
      " 69%|██████▉   | 374/540 [02:45<01:07,  2.46it/s]\u001b[A\u001b[A\n",
      "\n",
      " 69%|██████▉   | 375/540 [02:45<01:06,  2.47it/s]\u001b[A\u001b[A\n",
      "\n",
      " 70%|██████▉   | 376/540 [02:46<01:05,  2.49it/s]\u001b[A\u001b[A\n",
      "\n",
      " 70%|██████▉   | 377/540 [02:46<01:06,  2.46it/s]\u001b[A\u001b[A\n",
      "\n",
      " 70%|███████   | 378/540 [02:47<01:06,  2.44it/s]\u001b[A\u001b[A\n",
      "\n",
      " 70%|███████   | 379/540 [02:47<01:05,  2.46it/s]\u001b[A\u001b[A\n",
      "\n",
      " 70%|███████   | 380/540 [02:48<01:04,  2.47it/s]\u001b[A\u001b[A\n",
      "\n",
      " 71%|███████   | 381/540 [02:48<01:04,  2.46it/s]\u001b[A\u001b[A\n",
      "\n",
      " 71%|███████   | 382/540 [02:48<01:04,  2.45it/s]\u001b[A\u001b[A\n",
      "\n",
      " 71%|███████   | 383/540 [02:49<01:03,  2.48it/s]\u001b[A\u001b[A\n",
      "\n",
      " 71%|███████   | 384/540 [02:49<01:02,  2.48it/s]\u001b[A\u001b[A\n",
      "\n",
      " 71%|███████▏  | 385/540 [02:50<01:04,  2.42it/s]\u001b[A\u001b[A\n",
      "\n",
      " 71%|███████▏  | 386/540 [02:50<01:03,  2.41it/s]\u001b[A\u001b[A\n",
      "\n",
      " 72%|███████▏  | 387/540 [02:50<01:02,  2.43it/s]\u001b[A\u001b[A\n",
      "\n",
      " 72%|███████▏  | 388/540 [02:51<01:02,  2.44it/s]\u001b[A\u001b[A\n",
      "\n",
      " 72%|███████▏  | 389/540 [02:51<01:02,  2.42it/s]\u001b[A\u001b[A\n",
      "\n",
      " 72%|███████▏  | 390/540 [02:52<01:01,  2.43it/s]\u001b[A\u001b[A\n",
      "\n",
      " 72%|███████▏  | 391/540 [02:52<01:00,  2.45it/s]\u001b[A\u001b[A\n",
      "\n",
      " 73%|███████▎  | 392/540 [02:52<01:00,  2.46it/s]\u001b[A\u001b[A\n",
      "\n",
      " 73%|███████▎  | 393/540 [02:53<00:59,  2.46it/s]\u001b[A\u001b[A\n",
      "\n",
      " 73%|███████▎  | 394/540 [02:53<00:59,  2.45it/s]\u001b[A\u001b[A\n",
      "\n",
      " 73%|███████▎  | 395/540 [02:54<00:58,  2.46it/s]\u001b[A\u001b[A\n",
      "\n",
      " 73%|███████▎  | 396/540 [02:54<00:57,  2.48it/s]\u001b[A\u001b[A\n",
      "\n",
      " 74%|███████▎  | 397/540 [02:54<00:59,  2.39it/s]\u001b[A\u001b[A\n",
      "\n",
      " 74%|███████▎  | 398/540 [02:55<00:59,  2.39it/s]\u001b[A\u001b[A\n",
      "\n",
      " 74%|███████▍  | 399/540 [02:55<00:58,  2.41it/s]\u001b[A\u001b[A\n",
      "\n",
      " 74%|███████▍  | 400/540 [02:56<00:57,  2.44it/s]\u001b[A\u001b[A\n",
      "\n",
      " 74%|███████▍  | 401/540 [02:56<00:57,  2.42it/s]\u001b[A\u001b[A\n",
      "\n",
      " 74%|███████▍  | 402/540 [02:57<00:57,  2.41it/s]\u001b[A\u001b[A\n",
      "\n",
      " 75%|███████▍  | 403/540 [02:57<00:56,  2.44it/s]\u001b[A\u001b[A\n",
      "\n",
      " 75%|███████▍  | 404/540 [02:57<00:55,  2.44it/s]\u001b[A\u001b[A\n",
      "\n",
      " 75%|███████▌  | 405/540 [02:58<00:55,  2.42it/s]\u001b[A\u001b[A\n",
      "\n",
      " 75%|███████▌  | 406/540 [02:58<00:55,  2.42it/s]\u001b[A\u001b[A\n",
      "\n",
      " 75%|███████▌  | 407/540 [02:59<00:54,  2.42it/s]\u001b[A\u001b[A\n",
      "\n",
      " 76%|███████▌  | 408/540 [02:59<00:54,  2.42it/s]\u001b[A\u001b[A\n",
      "\n",
      " 76%|███████▌  | 409/540 [02:59<00:54,  2.40it/s]\u001b[A\u001b[A\n",
      "\n",
      " 76%|███████▌  | 410/540 [03:00<00:54,  2.38it/s]\u001b[A\u001b[A\n",
      "\n",
      " 76%|███████▌  | 411/540 [03:00<00:53,  2.40it/s]\u001b[A\u001b[A\n",
      "\n",
      " 76%|███████▋  | 412/540 [03:01<00:52,  2.43it/s]\u001b[A\u001b[A\n",
      "\n",
      " 76%|███████▋  | 413/540 [03:01<00:52,  2.40it/s]\u001b[A\u001b[A\n",
      "\n",
      " 77%|███████▋  | 414/540 [03:02<00:53,  2.37it/s]\u001b[A\u001b[A\n",
      "\n",
      " 77%|███████▋  | 415/540 [03:02<00:52,  2.40it/s]\u001b[A\u001b[A\n",
      "\n",
      " 77%|███████▋  | 416/540 [03:02<00:51,  2.42it/s]\u001b[A\u001b[A\n",
      "\n",
      " 77%|███████▋  | 417/540 [03:03<00:51,  2.37it/s]\u001b[A\u001b[A\n",
      "\n",
      " 77%|███████▋  | 418/540 [03:03<00:51,  2.37it/s]\u001b[A\u001b[A\n",
      "\n",
      " 78%|███████▊  | 419/540 [03:04<00:50,  2.40it/s]\u001b[A\u001b[A\n",
      "\n",
      " 78%|███████▊  | 420/540 [03:04<00:49,  2.41it/s]\u001b[A\u001b[A\n",
      "\n",
      " 78%|███████▊  | 421/540 [03:04<00:50,  2.38it/s]\u001b[A\u001b[A\n",
      "\n",
      " 78%|███████▊  | 422/540 [03:05<00:49,  2.38it/s]\u001b[A\u001b[A\n",
      "\n",
      " 78%|███████▊  | 423/540 [03:05<00:48,  2.41it/s]\u001b[A\u001b[A\n",
      "\n",
      " 79%|███████▊  | 424/540 [03:06<00:47,  2.44it/s]\u001b[A\u001b[A\n",
      "\n",
      " 79%|███████▊  | 425/540 [03:06<00:47,  2.40it/s]\u001b[A\u001b[A\n",
      "\n",
      " 79%|███████▉  | 426/540 [03:07<00:47,  2.39it/s]\u001b[A\u001b[A\n",
      "\n",
      " 79%|███████▉  | 427/540 [03:07<00:47,  2.40it/s]\u001b[A\u001b[A\n",
      "\n",
      " 79%|███████▉  | 428/540 [03:07<00:46,  2.41it/s]\u001b[A\u001b[A\n",
      "\n",
      " 79%|███████▉  | 429/540 [03:08<00:46,  2.37it/s]\u001b[A\u001b[A\n",
      "\n",
      " 80%|███████▉  | 430/540 [03:08<00:49,  2.21it/s]\u001b[A\u001b[A\n",
      "\n",
      " 80%|███████▉  | 431/540 [03:09<00:49,  2.21it/s]\u001b[A\u001b[A\n",
      "\n",
      " 80%|████████  | 432/540 [03:09<00:47,  2.27it/s]\u001b[A\u001b[A\n",
      "\n",
      " 80%|████████  | 433/540 [03:10<00:46,  2.29it/s]\u001b[A\u001b[A\n",
      "\n",
      " 80%|████████  | 434/540 [03:10<00:45,  2.33it/s]\u001b[A\u001b[A\n",
      "\n",
      " 81%|████████  | 435/540 [03:10<00:44,  2.37it/s]\u001b[A\u001b[A\n",
      "\n",
      " 81%|████████  | 436/540 [03:11<00:43,  2.41it/s]\u001b[A\u001b[A\n",
      "\n",
      " 81%|████████  | 437/540 [03:11<00:43,  2.37it/s]\u001b[A\u001b[A\n",
      "\n",
      " 81%|████████  | 438/540 [03:12<00:43,  2.37it/s]\u001b[A\u001b[A\n",
      "\n",
      " 81%|████████▏ | 439/540 [03:12<00:41,  2.41it/s]\u001b[A\u001b[A\n",
      "\n",
      " 81%|████████▏ | 440/540 [03:13<00:41,  2.41it/s]\u001b[A\u001b[A\n",
      "\n",
      " 82%|████████▏ | 441/540 [03:13<00:41,  2.38it/s]\u001b[A\u001b[A\n",
      "\n",
      " 82%|████████▏ | 442/540 [03:13<00:40,  2.39it/s]\u001b[A\u001b[A\n",
      "\n",
      " 82%|████████▏ | 443/540 [03:14<00:40,  2.41it/s]\u001b[A\u001b[A\n",
      "\n",
      " 82%|████████▏ | 444/540 [03:14<00:39,  2.40it/s]\u001b[A\u001b[A\n",
      "\n",
      " 82%|████████▏ | 445/540 [03:15<00:40,  2.33it/s]\u001b[A\u001b[A\n",
      "\n",
      " 83%|████████▎ | 446/540 [03:15<00:40,  2.32it/s]\u001b[A\u001b[A\n",
      "\n",
      " 83%|████████▎ | 447/540 [03:15<00:39,  2.36it/s]\u001b[A\u001b[A\n",
      "\n",
      " 83%|████████▎ | 448/540 [03:16<00:38,  2.38it/s]\u001b[A\u001b[A\n",
      "\n",
      " 83%|████████▎ | 449/540 [03:16<00:39,  2.30it/s]\u001b[A\u001b[A\n",
      "\n",
      " 83%|████████▎ | 450/540 [03:17<00:39,  2.29it/s]\u001b[A\u001b[A\n",
      "\n",
      " 84%|████████▎ | 451/540 [03:17<00:38,  2.32it/s]\u001b[A\u001b[A\n",
      "\n",
      " 84%|████████▎ | 452/540 [03:18<00:37,  2.34it/s]\u001b[A\u001b[A\n",
      "\n",
      " 84%|████████▍ | 453/540 [03:18<00:39,  2.23it/s]\u001b[A\u001b[A\n",
      "\n",
      " 84%|████████▍ | 454/540 [03:19<00:38,  2.23it/s]\u001b[A\u001b[A\n",
      "\n",
      " 84%|████████▍ | 455/540 [03:19<00:37,  2.26it/s]\u001b[A\u001b[A\n",
      "\n",
      " 84%|████████▍ | 456/540 [03:19<00:36,  2.30it/s]\u001b[A\u001b[A\n",
      "\n",
      " 85%|████████▍ | 457/540 [03:20<00:39,  2.12it/s]\u001b[A\u001b[A\n",
      "\n",
      " 85%|████████▍ | 458/540 [03:20<00:38,  2.10it/s]\u001b[A\u001b[A\n",
      "\n",
      " 85%|████████▌ | 459/540 [03:21<00:37,  2.14it/s]\u001b[A\u001b[A\n",
      "\n",
      " 85%|████████▌ | 460/540 [03:21<00:36,  2.21it/s]\u001b[A\u001b[A\n",
      "\n",
      " 85%|████████▌ | 461/540 [03:22<00:35,  2.24it/s]\u001b[A\u001b[A\n",
      "\n",
      " 86%|████████▌ | 462/540 [03:22<00:35,  2.17it/s]\u001b[A\u001b[A\n",
      "\n",
      " 86%|████████▌ | 463/540 [03:23<00:35,  2.18it/s]\u001b[A\u001b[A\n",
      "\n",
      " 86%|████████▌ | 464/540 [03:23<00:34,  2.22it/s]\u001b[A\u001b[A\n",
      "\n",
      " 86%|████████▌ | 465/540 [03:24<00:32,  2.29it/s]\u001b[A\u001b[A\n",
      "\n",
      " 86%|████████▋ | 466/540 [03:24<00:33,  2.18it/s]\u001b[A\u001b[A\n",
      "\n",
      " 86%|████████▋ | 467/540 [03:24<00:32,  2.24it/s]\u001b[A\u001b[A\n",
      "\n",
      " 87%|████████▋ | 468/540 [03:25<00:32,  2.19it/s]\u001b[A\u001b[A\n",
      "\n",
      " 87%|████████▋ | 469/540 [03:25<00:32,  2.19it/s]\u001b[A\u001b[A\n",
      "\n",
      " 87%|████████▋ | 470/540 [03:26<00:31,  2.23it/s]\u001b[A\u001b[A\n",
      "\n",
      " 87%|████████▋ | 471/540 [03:26<00:30,  2.25it/s]\u001b[A\u001b[A\n",
      "\n",
      " 87%|████████▋ | 472/540 [03:27<00:31,  2.19it/s]\u001b[A\u001b[A\n",
      "\n",
      " 88%|████████▊ | 473/540 [03:27<00:29,  2.24it/s]\u001b[A\u001b[A\n",
      "\n",
      " 88%|████████▊ | 474/540 [03:28<00:30,  2.19it/s]\u001b[A\u001b[A\n",
      "\n",
      " 88%|████████▊ | 475/540 [03:28<00:29,  2.21it/s]\u001b[A\u001b[A\n",
      "\n",
      " 88%|████████▊ | 476/540 [03:29<00:29,  2.17it/s]"
     ]
    },
    {
     "name": "stdout",
     "output_type": "stream",
     "text": [
      "State changed\n"
     ]
    },
    {
     "name": "stderr",
     "output_type": "stream",
     "text": [
      "\u001b[A\u001b[A\n",
      "\n",
      " 88%|████████▊ | 477/540 [03:29<00:28,  2.19it/s]\u001b[A\u001b[A\n",
      "\n",
      " 89%|████████▊ | 478/540 [03:30<00:28,  2.15it/s]\u001b[A\u001b[A\n",
      "\n",
      " 89%|████████▊ | 479/540 [03:30<00:27,  2.23it/s]\u001b[A\u001b[A\n",
      "\n",
      " 89%|████████▉ | 480/540 [03:30<00:27,  2.16it/s]\u001b[A\u001b[A\n",
      "\n",
      " 89%|████████▉ | 481/540 [03:31<00:26,  2.19it/s]"
     ]
    },
    {
     "name": "stdout",
     "output_type": "stream",
     "text": [
      "State changed\n"
     ]
    },
    {
     "name": "stderr",
     "output_type": "stream",
     "text": [
      "\u001b[A\u001b[A\n",
      "\n",
      " 89%|████████▉ | 482/540 [03:31<00:25,  2.25it/s]\u001b[A\u001b[A\n",
      "\n",
      " 89%|████████▉ | 483/540 [03:32<00:25,  2.20it/s]\u001b[A\u001b[A\n",
      "\n",
      " 90%|████████▉ | 484/540 [03:32<00:25,  2.23it/s]\u001b[A\u001b[A\n",
      "\n",
      " 90%|████████▉ | 485/540 [03:33<00:24,  2.23it/s]\u001b[A\u001b[A\n",
      "\n",
      " 90%|█████████ | 486/540 [03:33<00:25,  2.14it/s]\u001b[A\u001b[A\n",
      "\n",
      " 90%|█████████ | 487/540 [03:34<00:24,  2.17it/s]\u001b[A\u001b[A\n",
      "\n",
      " 90%|█████████ | 488/540 [03:34<00:23,  2.22it/s]\u001b[A\u001b[A\n",
      "\n",
      " 91%|█████████ | 489/540 [03:35<00:23,  2.20it/s]\u001b[A\u001b[A\n",
      "\n",
      " 91%|█████████ | 490/540 [03:35<00:23,  2.16it/s]\u001b[A\u001b[A\n",
      "\n",
      " 91%|█████████ | 491/540 [03:35<00:21,  2.24it/s]\u001b[A\u001b[A\n",
      "\n",
      " 91%|█████████ | 492/540 [03:36<00:21,  2.19it/s]\u001b[A\u001b[A\n",
      "\n",
      " 91%|█████████▏| 493/540 [03:36<00:21,  2.14it/s]\u001b[A\u001b[A\n",
      "\n",
      " 91%|█████████▏| 494/540 [03:37<00:20,  2.22it/s]\u001b[A\u001b[A\n",
      "\n",
      " 92%|█████████▏| 495/540 [03:37<00:20,  2.15it/s]\u001b[A\u001b[A\n",
      "\n",
      " 92%|█████████▏| 496/540 [03:38<00:20,  2.19it/s]"
     ]
    },
    {
     "name": "stdout",
     "output_type": "stream",
     "text": [
      "State changed\n"
     ]
    },
    {
     "name": "stderr",
     "output_type": "stream",
     "text": [
      "\u001b[A\u001b[A\n",
      "\n",
      " 92%|█████████▏| 497/540 [03:38<00:19,  2.24it/s]\u001b[A\u001b[A\n",
      "\n",
      " 92%|█████████▏| 498/540 [03:39<00:21,  1.98it/s]\u001b[A\u001b[A\n",
      "\n",
      " 92%|█████████▏| 499/540 [03:39<00:19,  2.05it/s]\u001b[A\u001b[A\n",
      "\n",
      " 93%|█████████▎| 500/540 [03:40<00:18,  2.14it/s]\u001b[A\u001b[A\n",
      "\n",
      " 93%|█████████▎| 501/540 [03:40<00:18,  2.11it/s]\u001b[A\u001b[A\n",
      "\n",
      " 93%|█████████▎| 502/540 [03:41<00:17,  2.15it/s]\u001b[A\u001b[A\n",
      "\n",
      " 93%|█████████▎| 503/540 [03:41<00:16,  2.21it/s]\u001b[A\u001b[A\n",
      "\n",
      " 93%|█████████▎| 504/540 [03:41<00:16,  2.19it/s]\u001b[A\u001b[A\n",
      "\n",
      " 94%|█████████▎| 505/540 [03:42<00:15,  2.25it/s]\u001b[A\u001b[A\n",
      "\n",
      " 94%|█████████▎| 506/540 [03:42<00:15,  2.21it/s]\u001b[A\u001b[A\n",
      "\n",
      " 94%|█████████▍| 507/540 [03:43<00:14,  2.24it/s]\u001b[A\u001b[A\n",
      "\n",
      " 94%|█████████▍| 508/540 [03:43<00:13,  2.29it/s]\u001b[A\u001b[A\n",
      "\n",
      " 94%|█████████▍| 509/540 [03:44<00:13,  2.24it/s]\u001b[A\u001b[A\n",
      "\n",
      " 94%|█████████▍| 510/540 [03:44<00:13,  2.20it/s]\u001b[A\u001b[A\n",
      "\n",
      " 95%|█████████▍| 511/540 [03:45<00:13,  2.16it/s]\u001b[A\u001b[A\n",
      "\n",
      " 95%|█████████▍| 512/540 [03:45<00:12,  2.19it/s]"
     ]
    },
    {
     "name": "stdout",
     "output_type": "stream",
     "text": [
      "State changed\n"
     ]
    },
    {
     "name": "stderr",
     "output_type": "stream",
     "text": [
      "\u001b[A\u001b[A\n",
      "\n",
      " 95%|█████████▌| 513/540 [03:45<00:12,  2.24it/s]"
     ]
    },
    {
     "name": "stdout",
     "output_type": "stream",
     "text": [
      "State changed\n"
     ]
    },
    {
     "name": "stderr",
     "output_type": "stream",
     "text": [
      "\u001b[A\u001b[A\n",
      "\n",
      " 95%|█████████▌| 514/540 [03:46<00:11,  2.19it/s]"
     ]
    },
    {
     "name": "stdout",
     "output_type": "stream",
     "text": [
      "State changed\n"
     ]
    },
    {
     "name": "stderr",
     "output_type": "stream",
     "text": [
      "\u001b[A\u001b[A\n",
      "\n",
      " 95%|█████████▌| 515/540 [03:46<00:11,  2.26it/s]"
     ]
    },
    {
     "name": "stdout",
     "output_type": "stream",
     "text": [
      "State changed\n"
     ]
    },
    {
     "name": "stderr",
     "output_type": "stream",
     "text": [
      "\u001b[A\u001b[A\n",
      "\n",
      " 96%|█████████▌| 516/540 [03:47<00:11,  2.17it/s]"
     ]
    },
    {
     "name": "stdout",
     "output_type": "stream",
     "text": [
      "State changed\n"
     ]
    },
    {
     "name": "stderr",
     "output_type": "stream",
     "text": [
      "\u001b[A\u001b[A\n",
      "\n",
      " 96%|█████████▌| 517/540 [03:47<00:10,  2.19it/s]"
     ]
    },
    {
     "name": "stdout",
     "output_type": "stream",
     "text": [
      "State changed\n"
     ]
    },
    {
     "name": "stderr",
     "output_type": "stream",
     "text": [
      "\u001b[A\u001b[A\n",
      "\n",
      " 96%|█████████▌| 518/540 [03:48<00:10,  2.15it/s]"
     ]
    },
    {
     "name": "stdout",
     "output_type": "stream",
     "text": [
      "State changed\n"
     ]
    },
    {
     "name": "stderr",
     "output_type": "stream",
     "text": [
      "\u001b[A\u001b[A\n",
      "\n",
      " 96%|█████████▌| 519/540 [03:48<00:09,  2.19it/s]"
     ]
    },
    {
     "name": "stdout",
     "output_type": "stream",
     "text": [
      "State changed\n"
     ]
    },
    {
     "name": "stderr",
     "output_type": "stream",
     "text": [
      "\u001b[A\u001b[A\n",
      "\n",
      " 96%|█████████▋| 520/540 [03:49<00:09,  2.14it/s]"
     ]
    },
    {
     "name": "stdout",
     "output_type": "stream",
     "text": [
      "State changed\n"
     ]
    },
    {
     "name": "stderr",
     "output_type": "stream",
     "text": [
      "\u001b[A\u001b[A\n",
      "\n",
      " 96%|█████████▋| 521/540 [03:49<00:08,  2.17it/s]"
     ]
    },
    {
     "name": "stdout",
     "output_type": "stream",
     "text": [
      "State changed\n"
     ]
    },
    {
     "name": "stderr",
     "output_type": "stream",
     "text": [
      "\u001b[A\u001b[A\n",
      "\n",
      " 97%|█████████▋| 522/540 [03:50<00:08,  2.21it/s]"
     ]
    },
    {
     "name": "stdout",
     "output_type": "stream",
     "text": [
      "State changed\n"
     ]
    },
    {
     "name": "stderr",
     "output_type": "stream",
     "text": [
      "\u001b[A\u001b[A\n",
      "\n",
      " 97%|█████████▋| 523/540 [03:50<00:07,  2.13it/s]\u001b[A\u001b[A\n",
      "\n",
      " 97%|█████████▋| 524/540 [03:51<00:07,  2.17it/s]"
     ]
    },
    {
     "name": "stdout",
     "output_type": "stream",
     "text": [
      "State changed\n"
     ]
    },
    {
     "name": "stderr",
     "output_type": "stream",
     "text": [
      "\u001b[A\u001b[A\n",
      "\n",
      " 97%|█████████▋| 525/540 [03:51<00:06,  2.21it/s]"
     ]
    },
    {
     "name": "stdout",
     "output_type": "stream",
     "text": [
      "State changed\n"
     ]
    },
    {
     "name": "stderr",
     "output_type": "stream",
     "text": [
      "\u001b[A\u001b[A\n",
      "\n",
      " 97%|█████████▋| 526/540 [03:51<00:06,  2.17it/s]\u001b[A\u001b[A\n",
      "\n",
      " 98%|█████████▊| 527/540 [03:52<00:05,  2.21it/s]\u001b[A\u001b[A\n",
      "\n",
      " 98%|█████████▊| 528/540 [03:52<00:05,  2.22it/s]\u001b[A\u001b[A\n",
      "\n",
      " 98%|█████████▊| 529/540 [03:53<00:05,  2.13it/s]"
     ]
    },
    {
     "name": "stdout",
     "output_type": "stream",
     "text": [
      "State changed\n"
     ]
    },
    {
     "name": "stderr",
     "output_type": "stream",
     "text": [
      "\u001b[A\u001b[A\n",
      "\n",
      " 98%|█████████▊| 530/540 [03:53<00:04,  2.16it/s]"
     ]
    },
    {
     "name": "stdout",
     "output_type": "stream",
     "text": [
      "State changed\n"
     ]
    },
    {
     "name": "stderr",
     "output_type": "stream",
     "text": [
      "\u001b[A\u001b[A\n",
      "\n",
      " 98%|█████████▊| 531/540 [03:54<00:04,  2.20it/s]"
     ]
    },
    {
     "name": "stdout",
     "output_type": "stream",
     "text": [
      "State changed\n"
     ]
    },
    {
     "name": "stderr",
     "output_type": "stream",
     "text": [
      "\u001b[A\u001b[A\n",
      "\n",
      " 99%|█████████▊| 532/540 [03:54<00:03,  2.14it/s]\u001b[A\u001b[A\n",
      "\n",
      " 99%|█████████▊| 533/540 [03:55<00:03,  2.19it/s]\u001b[A\u001b[A\n",
      "\n",
      " 99%|█████████▉| 534/540 [03:55<00:02,  2.24it/s]\u001b[A\u001b[A\n",
      "\n",
      " 99%|█████████▉| 535/540 [03:56<00:02,  2.17it/s]\u001b[A\u001b[A\n",
      "\n",
      " 99%|█████████▉| 536/540 [03:56<00:01,  2.19it/s]"
     ]
    },
    {
     "name": "stdout",
     "output_type": "stream",
     "text": [
      "State changed\n"
     ]
    },
    {
     "name": "stderr",
     "output_type": "stream",
     "text": [
      "\u001b[A\u001b[A\n",
      "\n",
      " 99%|█████████▉| 537/540 [03:56<00:01,  2.25it/s]\u001b[A\u001b[A\n",
      "\n",
      "100%|█████████▉| 538/540 [03:57<00:00,  2.19it/s]\u001b[A\u001b[A\n",
      "\n",
      "100%|█████████▉| 539/540 [03:57<00:00,  2.21it/s]\u001b[A\u001b[A\n",
      "\n",
      "100%|██████████| 540/540 [03:58<00:00,  2.27it/s]\u001b[A\u001b[A\n",
      "\n",
      "\u001b[A\u001b[A"
     ]
    },
    {
     "name": "stdout",
     "output_type": "stream",
     "text": [
      "[MoviePy] Done.\n",
      "[MoviePy] >>>> Video ready: result_after_filter.mp4 \n",
      "\n"
     ]
    }
   ],
   "source": [
    "with tf.Session(graph=detection_graph) as sess:\n",
    "    image_tensor = sess.graph.get_tensor_by_name('image_tensor:0')\n",
    "    detection_boxes = sess.graph.get_tensor_by_name('detection_boxes:0')\n",
    "    detection_scores = sess.graph.get_tensor_by_name('detection_scores:0')\n",
    "    detection_classes = sess.graph.get_tensor_by_name('detection_classes:0')\n",
    "    sub_clip = clip.subclip(6, 15)\n",
    "    new_clip = sub_clip.fl_image(pipeline)\n",
    "#     new_clip = clip.fl_image(pipeline)\n",
    "    \n",
    "    # write to file\n",
    "#     new_clip.write_videofile('result.mp4', audio=False)\n",
    "    new_clip.write_videofile('result_after_filter.mp4', audio=False)"
   ]
  },
  {
   "cell_type": "code",
   "execution_count": 46,
   "metadata": {},
   "outputs": [
    {
     "data": {
      "text/html": [
       "\n",
       "<video width=\"960\" height=\"600\" controls>\n",
       "  <source src=\"result_after_filter.mp4\" type=\"video/mp4\">\n",
       "</video>\n"
      ],
      "text/plain": [
       "<IPython.core.display.HTML object>"
      ]
     },
     "execution_count": 46,
     "metadata": {},
     "output_type": "execute_result"
    }
   ],
   "source": [
    "HTML(\"\"\"\n",
    "<video width=\"960\" height=\"600\" controls>\n",
    "  <source src=\"{0}\" type=\"video/mp4\">\n",
    "</video>\n",
    "\"\"\".format('result_after_filter.mp4'))"
   ]
  },
  {
   "cell_type": "code",
   "execution_count": null,
   "metadata": {},
   "outputs": [],
   "source": [
    "HTML(\"\"\"\n",
    "<video width=\"960\" height=\"600\" controls>\n",
    "  <source src=\"{0}\" type=\"video/mp4\">\n",
    "</video>\n",
    "\"\"\".format('result.mp4'))"
   ]
  },
  {
   "cell_type": "markdown",
   "metadata": {},
   "source": [
    "## Further Exploration\n",
    "\n",
    "Some ideas to take things further:\n",
    "\n",
    "* Finetune the model on a new dataset more relevant to autonomous vehicles. Instead of loading the frozen inference graph you'll load the checkpoint.\n",
    "* Optimize the model and get the FPS as low as possible.\n",
    "* Build your own detector. There are several base model pretrained on ImageNet you can choose from. [Keras](https://keras.io/applications/) is probably the quickest way to get setup in this regard.\n"
   ]
  },
  {
   "cell_type": "code",
   "execution_count": null,
   "metadata": {},
   "outputs": [],
   "source": []
  }
 ],
 "metadata": {
  "kernelspec": {
   "display_name": "Python 3",
   "language": "python",
   "name": "python3"
  },
  "language_info": {
   "codemirror_mode": {
    "name": "ipython",
    "version": 3
   },
   "file_extension": ".py",
   "mimetype": "text/x-python",
   "name": "python",
   "nbconvert_exporter": "python",
   "pygments_lexer": "ipython3",
   "version": "3.6.3"
  }
 },
 "nbformat": 4,
 "nbformat_minor": 2
}
